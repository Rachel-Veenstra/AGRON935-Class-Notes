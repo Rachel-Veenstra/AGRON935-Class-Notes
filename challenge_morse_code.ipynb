{
 "cells": [
  {
   "cell_type": "code",
   "execution_count": 1,
   "metadata": {},
   "outputs": [],
   "source": [
    "import glob\n",
    "import pandas as pd"
   ]
  },
  {
   "cell_type": "code",
   "execution_count": 14,
   "metadata": {},
   "outputs": [],
   "source": [
    "dirname = '/Users/Rachel Veenstra/Desktop/Coding/introcoding-spring-2019/Datasets/'"
   ]
  },
  {
   "cell_type": "code",
   "execution_count": 17,
   "metadata": {},
   "outputs": [],
   "source": [
    "file = 'morse_lookup_table.txt'\n",
    "\n",
    "dataframe = pd.read_csv(dirname + file, sep = '\\t', engine = 'python')"
   ]
  },
  {
   "cell_type": "code",
   "execution_count": 52,
   "metadata": {},
   "outputs": [
    {
     "name": "stdout",
     "output_type": "stream",
     "text": [
      "['-', '....', '.', '', '', '', '', '.--.', '.-.', '---', '--.', '.-.', '.-', '--', '--', '.', '.-.', '...', '', '', '', '', '---', '..-.', '', '', '', '', '-', '---', '--', '---', '.-.', '.-.', '---', '.--', '', '', '', '', '.-', '.-.', '.', '', '', '', '', '-', '....', '.', '', '', '', '', '.--', '..', '--..', '.-', '.-.', '-..', '...', '', '', '', '', '---', '..-.', '', '', '', '', '-', '....', '.', '', '', '', '', '..-.', '..-', '-', '..-', '.-.', '.', '.-.-.-', '', '', '', '', '-.--', '---', '..-', '', '', '', '', '.-', '.-.', '.', '', '', '', '', '--.', '---', '..', '-.', '--.', '', '', '', '', '-', '---', '', '', '', '', '.-..', '---', '---', '-.-', '', '', '', '', '.-..', '..', '-.-', '.', '', '', '', '', '-.--', '---', '..-', '', '', '', '', '....', '.-', '...-', '.', '', '', '', '', '--', '.-', '--.', '..', '-.-.', '', '', '', '', '.--.', '---', '.--', '.', '.-.', '...', '', '', '', '', '-.-.', '---', '--', '.--.', '.-', '.-.', '.', '-..', '', '', '', '', '-', '---', '', '', '', '', '.', '...-', '.', '.-.', '-.--', '-...', '---', '-..', '-.--', '', '', '', '', '.', '.-..', '...', '.', '.-.-.-', '', '', '', '', '--.', '.-', '-...', '.', '', '', '', '', '-.', '.', '.--', '.', '.-..', '.-..']\n"
     ]
    }
   ],
   "source": [
    "message = '- .... .     .--. .-. --- --. .-. .- -- -- . .-. ...     --- ..-.     - --- -- --- .-. .-. --- .--     .- .-. .     - .... .     .-- .. --.. .- .-. -.. ...     --- ..-.     - .... .     ..-. ..- - ..- .-. . .-.-.-     -.-- --- ..-     .- .-. .     --. --- .. -. --.     - ---     .-.. --- --- -.-     .-.. .. -.- .     -.-- --- ..-     .... .- ...- .     -- .- --. .. -.-.     .--. --- .-- . .-. ...     -.-. --- -- .--. .- .-. . -..     - ---     . ...- . .-. -.-- -... --- -.. -.--     . .-.. ... . .-.-.-     --. .- -... .     -. . .-- . .-.. .-..'\n",
    "\n",
    "characters = message.split(' ')\n",
    "       \n",
    "print(characters)"
   ]
  },
  {
   "cell_type": "code",
   "execution_count": 53,
   "metadata": {},
   "outputs": [
    {
     "data": {
      "text/plain": [
       "'T H E         P R O G R A M M E R S         O F         T O M O R R O W         A R E         T H E         W I Z A R D S         O F         T H E         F U T U R E .         Y O U         A R E         G O I N G         T O         L O O K         L I K E         Y O U         H A V E         M A G I C         P O W E R S         C O M P A R E D         T O         E V E R Y B O D Y         E L S E .         G A B E         N E W E L L'"
      ]
     },
     "execution_count": 53,
     "metadata": {},
     "output_type": "execute_result"
    }
   ],
   "source": [
    "answer= []\n",
    "\n",
    "for i in characters:\n",
    "    for column, row in dataframe.iterrows():\n",
    "        if row['code'] == i:\n",
    "            answer.append(row['character'])\n",
    "    if i == '':\n",
    "        answer.append(' ')\n",
    "        \n",
    "final = ' '.join(answer)\n",
    "final"
   ]
  },
  {
   "cell_type": "code",
   "execution_count": 59,
   "metadata": {},
   "outputs": [
    {
     "data": {
      "text/plain": [
       "'T H E   P R O G R A M M E R S   O F   T O M O R R O W   A R E   T H E   W I Z A R D S   O F   T H E   F U T U R E .   Y O U   A R E   G O I N G   T O   L O O K   L I K E   Y O U   H A V E   M A G I C   P O W E R S   C O M P A R E D   T O   E V E R Y B O D Y   E L S E .   G A B E   N E W E L L'"
      ]
     },
     "execution_count": 59,
     "metadata": {},
     "output_type": "execute_result"
    }
   ],
   "source": [
    "better = final.split('   ')\n",
    "\n",
    "complete = ' '.join(better)\n",
    "complete"
   ]
  }
 ],
 "metadata": {
  "kernelspec": {
   "display_name": "Python 3",
   "language": "python",
   "name": "python3"
  },
  "language_info": {
   "codemirror_mode": {
    "name": "ipython",
    "version": 3
   },
   "file_extension": ".py",
   "mimetype": "text/x-python",
   "name": "python",
   "nbconvert_exporter": "python",
   "pygments_lexer": "ipython3",
   "version": "3.7.1"
  }
 },
 "nbformat": 4,
 "nbformat_minor": 2
}
