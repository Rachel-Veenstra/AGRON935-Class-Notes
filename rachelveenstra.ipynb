{
 "cells": [
  {
   "cell_type": "markdown",
   "metadata": {},
   "source": [
    "# Challenge: Vapor Pressure Deficit"
   ]
  },
  {
   "cell_type": "markdown",
   "metadata": {},
   "source": [
    "#### Rachel Veenstra"
   ]
  },
  {
   "cell_type": "code",
   "execution_count": 1,
   "metadata": {},
   "outputs": [],
   "source": [
    "# Importing modules\n",
    "\n",
    "import numpy as np"
   ]
  },
  {
   "cell_type": "code",
   "execution_count": 46,
   "metadata": {},
   "outputs": [],
   "source": [
    "# Defining new function\n",
    "\n",
    "def vpdfun(T, R):\n",
    "    \"\"\"\n",
    "    Calculates vapor pressure deficit. \n",
    "    \n",
    "    Inputs:\n",
    "            (Temperature, Relative Humidity)\n",
    "            Temperature must be in degrees Celsius.\n",
    "            Relative Humidity must be a percentage.\n",
    "            \n",
    "            Can be passed as individual numbers, or an assigned variable (such as an array).\n",
    "          \n",
    "    Author: Rachel Veenstra\n",
    "    Date: 04-Mar-2019\n",
    "    \"\"\"\n",
    "    SVP = 0.611 * np.exp((17.5*T)/(T+241))\n",
    "    AVP = SVP*(R/100)\n",
    "    Final = (SVP - AVP).round(2)\n",
    "    return Final"
   ]
  },
  {
   "cell_type": "code",
   "execution_count": 44,
   "metadata": {},
   "outputs": [],
   "source": [
    "# Creating example input variables (used random numbers for both variables)\n",
    "\n",
    "temp_grid = np.random.randint(0,41,[5,5]) # creating 5x5 arrays of random values in the desired range\n",
    "RH_grid = np.random.randint(1,101, [5,5]) "
   ]
  },
  {
   "cell_type": "code",
   "execution_count": 47,
   "metadata": {},
   "outputs": [
    {
     "name": "stdout",
     "output_type": "stream",
     "text": [
      "[[2.57 2.33 0.77 1.21 0.63]\n",
      " [0.3  1.18 2.67 0.7  5.52]\n",
      " [1.67 0.22 0.07 5.87 0.26]\n",
      " [0.03 2.12 4.45 2.12 0.83]\n",
      " [0.48 0.24 2.08 3.28 1.39]]\n"
     ]
    }
   ],
   "source": [
    "# Calling function and storing output as \"VPD\" variable\n",
    "\n",
    "VPD = vpdfun(temp_grid, RH_grid)\n",
    "print(VPD)"
   ]
  }
 ],
 "metadata": {
  "kernelspec": {
   "display_name": "Python 3",
   "language": "python",
   "name": "python3"
  },
  "language_info": {
   "codemirror_mode": {
    "name": "ipython",
    "version": 3
   },
   "file_extension": ".py",
   "mimetype": "text/x-python",
   "name": "python",
   "nbconvert_exporter": "python",
   "pygments_lexer": "ipython3",
   "version": "3.7.1"
  }
 },
 "nbformat": 4,
 "nbformat_minor": 2
}
