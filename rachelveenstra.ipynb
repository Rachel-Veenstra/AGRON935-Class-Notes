{
 "cells": [
  {
   "cell_type": "code",
   "execution_count": 2,
   "metadata": {},
   "outputs": [],
   "source": [
    "import random\n",
    "import numpy as np"
   ]
  },
  {
   "cell_type": "code",
   "execution_count": 121,
   "metadata": {},
   "outputs": [
    {
     "name": "stdout",
     "output_type": "stream",
     "text": [
      "23\n",
      "21\n"
     ]
    }
   ],
   "source": [
    "x = 1\n",
    "month_list = []\n",
    "day_list = []\n",
    "date_list = []\n",
    "\n",
    "for i in range(0,23):\n",
    "    \n",
    "    month = random.randrange(1,13)\n",
    "    \n",
    "    if month == 9 | 4 | 6 | 11:\n",
    "        day = random.randrange(1,31)\n",
    "    elif month != 2:\n",
    "        day = random.randrange(1,32)\n",
    "    else:\n",
    "        day = random.randrange(1,29)\n",
    "\n",
    "    month_list.append(month)\n",
    "    day_list.append(day)\n",
    "    \n",
    "    x=+1\n",
    "    \n",
    "    seq = (str(month), str(day))\n",
    "    date = '_'.join(seq)\n",
    "    date_list.append(date)\n",
    "    \n",
    "date_list\n",
    "\n",
    "print(len(date_list))\n",
    "print(len(set(date_list)))"
   ]
  },
  {
   "cell_type": "code",
   "execution_count": 94,
   "metadata": {},
   "outputs": [
    {
     "name": "stdout",
     "output_type": "stream",
     "text": [
      "23\n",
      "21\n"
     ]
    }
   ],
   "source": []
  }
 ],
 "metadata": {
  "kernelspec": {
   "display_name": "Python 3",
   "language": "python",
   "name": "python3"
  },
  "language_info": {
   "codemirror_mode": {
    "name": "ipython",
    "version": 3
   },
   "file_extension": ".py",
   "mimetype": "text/x-python",
   "name": "python",
   "nbconvert_exporter": "python",
   "pygments_lexer": "ipython3",
   "version": "3.7.1"
  }
 },
 "nbformat": 4,
 "nbformat_minor": 2
}
