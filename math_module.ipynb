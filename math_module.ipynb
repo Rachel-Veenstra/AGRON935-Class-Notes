{
 "cells": [
  {
   "cell_type": "code",
   "execution_count": 1,
   "metadata": {},
   "outputs": [
    {
     "name": "stdout",
     "output_type": "stream",
     "text": [
      "90.87\n"
     ]
    }
   ],
   "source": [
    "## Import math module\n",
    "\n",
    "import math\n",
    "\n",
    "value = 90.87\n",
    "print(value)"
   ]
  },
  {
   "cell_type": "code",
   "execution_count": 6,
   "metadata": {},
   "outputs": [
    {
     "name": "stdout",
     "output_type": "stream",
     "text": [
      "-0.9722372823920781\n",
      "-2.454754666726867\n"
     ]
    }
   ],
   "source": [
    "print(math.cos(value))\n",
    "\n",
    "cos_my_var = math.cos(value)**2 + 5.6 - 9\n",
    "print(cos_my_var)"
   ]
  },
  {
   "cell_type": "code",
   "execution_count": 9,
   "metadata": {},
   "outputs": [
    {
     "name": "stdout",
     "output_type": "stream",
     "text": [
      "91\n"
     ]
    }
   ],
   "source": [
    "print(math.ceil(value))"
   ]
  },
  {
   "cell_type": "code",
   "execution_count": 10,
   "metadata": {},
   "outputs": [
    {
     "name": "stdout",
     "output_type": "stream",
     "text": [
      "90\n"
     ]
    }
   ],
   "source": [
    "print(math.floor(value))"
   ]
  },
  {
   "cell_type": "code",
   "execution_count": 18,
   "metadata": {},
   "outputs": [
    {
     "name": "stdout",
     "output_type": "stream",
     "text": [
      "4.908738521234052\n",
      "5\n"
     ]
    }
   ],
   "source": [
    "# Calculate the area of a circle with a diameter of 2.5cm\n",
    "\n",
    "# A = pi * r**2\n",
    "\n",
    "d = 2.5\n",
    "r = d/2\n",
    "print(math.pi*(r**2))\n",
    "print(round(math.pi*(r**2)))\n",
    "\n",
    "## this function cannot run lists ex: d = [2.5,5,6,7]"
   ]
  },
  {
   "cell_type": "code",
   "execution_count": null,
   "metadata": {},
   "outputs": [],
   "source": []
  }
 ],
 "metadata": {
  "kernelspec": {
   "display_name": "Python 3",
   "language": "python",
   "name": "python3"
  },
  "language_info": {
   "codemirror_mode": {
    "name": "ipython",
    "version": 3
   },
   "file_extension": ".py",
   "mimetype": "text/x-python",
   "name": "python",
   "nbconvert_exporter": "python",
   "pygments_lexer": "ipython3",
   "version": "3.7.1"
  }
 },
 "nbformat": 4,
 "nbformat_minor": 2
}
