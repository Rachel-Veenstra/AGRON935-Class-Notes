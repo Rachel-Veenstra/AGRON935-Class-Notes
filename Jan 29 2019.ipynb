{
 "cells": [
  {
   "cell_type": "code",
   "execution_count": 1,
   "metadata": {},
   "outputs": [
    {
     "name": "stdout",
     "output_type": "stream",
     "text": [
      "Hello World\n"
     ]
    }
   ],
   "source": [
    "# The most iconic line of code when learning how to program\n",
    "print(\"Hello World\")"
   ]
  },
  {
   "cell_type": "code",
   "execution_count": null,
   "metadata": {},
   "outputs": [],
   "source": [
    "# Comments are represented by the pound symbol \"#\". \n",
    "# So these few lines are comments and will be ignored by the Python interpreter.\n",
    "# Comments are useful to document your code."
   ]
  },
  {
   "cell_type": "code",
   "execution_count": 2,
   "metadata": {},
   "outputs": [
    {
     "name": "stdout",
     "output_type": "stream",
     "text": [
      "This sentence will print\n"
     ]
    }
   ],
   "source": [
    "print(\"This sentence will print\") # This one will not"
   ]
  },
  {
   "cell_type": "code",
   "execution_count": 3,
   "metadata": {},
   "outputs": [
    {
     "name": "stdout",
     "output_type": "stream",
     "text": [
      "I have 78 boxes to move\n",
      "Remainder is 1\n"
     ]
    }
   ],
   "source": [
    "# Print multiple items: strings and numbers\n",
    "print(\"I have\", 78, \"boxes to move\")\n",
    "print(\"Remainder is\", 10 % 3) # % is the modulus operator"
   ]
  },
  {
   "cell_type": "code",
   "execution_count": 6,
   "metadata": {
    "scrolled": true
   },
   "outputs": [
    {
     "name": "stdout",
     "output_type": "stream",
     "text": [
      "134\n"
     ]
    },
    {
     "data": {
      "text/plain": [
       "0"
      ]
     },
     "execution_count": 6,
     "metadata": {},
     "output_type": "execute_result"
    }
   ],
   "source": [
    "# Define variables using equality.\n",
    "a = 134\n",
    "print(a)\n",
    "\n",
    "# Define multiple variables at once\n",
    "mu, sigma = 0, 0.2\n",
    "\n",
    "# See variable output\n",
    "mu"
   ]
  },
  {
   "cell_type": "code",
   "execution_count": 7,
   "metadata": {},
   "outputs": [
    {
     "name": "stdout",
     "output_type": "stream",
     "text": [
      "134\n"
     ]
    }
   ],
   "source": [
    "# Variables can be accessed from a different cell (variables are not actually attached to any cell)\n",
    "# As long as variables are in memory, you can call and use them\n",
    "print(a)"
   ]
  },
  {
   "cell_type": "code",
   "execution_count": 9,
   "metadata": {},
   "outputs": [
    {
     "name": "stdout",
     "output_type": "stream",
     "text": [
      "2\n"
     ]
    }
   ],
   "source": [
    "# Re-define a variable \n",
    "a = 2 \n",
    "print(a)\n",
    "\n",
    "# Now has a changed value"
   ]
  },
  {
   "cell_type": "code",
   "execution_count": 10,
   "metadata": {},
   "outputs": [
    {
     "ename": "SyntaxError",
     "evalue": "can't assign to literal (<ipython-input-10-d58e64842605>, line 2)",
     "output_type": "error",
     "traceback": [
      "\u001b[1;36m  File \u001b[1;32m\"<ipython-input-10-d58e64842605>\"\u001b[1;36m, line \u001b[1;32m2\u001b[0m\n\u001b[1;33m    1 = \"a\"\u001b[0m\n\u001b[1;37m           ^\u001b[0m\n\u001b[1;31mSyntaxError\u001b[0m\u001b[1;31m:\u001b[0m can't assign to literal\n"
     ]
    }
   ],
   "source": [
    "# Student question: can we define 1 = a or 1 = \"a\"\n",
    "1 = \"a\"\n",
    "\n",
    "# The answer is no. Variable names must start with a letter or an underscore"
   ]
  },
  {
   "cell_type": "code",
   "execution_count": 20,
   "metadata": {
    "scrolled": false
   },
   "outputs": [
    {
     "name": "stdout",
     "output_type": "stream",
     "text": [
      "There are 50 cars and 15 seats are available.\n",
      "There are 50 cars and 15 seats are available.\n",
      "There are 50.000000 cars and 15.000000 seats are available.\n",
      "There are 50 cars and 15 seats are available.\n",
      "There are 50 cars and 15 seats are open.\n"
     ]
    }
   ],
   "source": [
    "# Python as a calculator\n",
    "cars = 50\n",
    "seats_per_car = 4\n",
    "carpool_capacity = cars * seats_per_car\n",
    "passengers = 185\n",
    "seats_available = carpool_capacity - passengers\n",
    "\n",
    "# Multiple ways of printing this output\n",
    "print(\"There are\", cars, \"cars and\", seats_available, \"seats are available.\")\n",
    "print(\"There are \" + str(cars) + \" cars and \" + str(seats_available) + \" seats are available.\")\n",
    "\n",
    "# Previous line requires manual insertion of spaces.\n",
    "\n",
    "print(\"There are %f cars and %f seats are available.\" % (cars, seats_available))\n",
    "print(\"There are %d cars and %d seats are available.\" % (cars, seats_available))\n",
    "\n",
    "# %f = floating point numbers\n",
    "# %d = signed integer decimal\n",
    "# %f and %d are defined within the string\n",
    "# Note that the percent symbol (%) could be used to calculate remainder, but also to indicate variables.\n",
    "\n",
    "# Modern and perhaps better option. Previous choices may be deprecated in future Python versions\n",
    "print(\"There are {} cars and {} seats are open.\" .format(cars, seats_available))"
   ]
  },
  {
   "cell_type": "code",
   "execution_count": 28,
   "metadata": {},
   "outputs": [
    {
     "name": "stdout",
     "output_type": "stream",
     "text": [
      "My height is 177.8 cm\n",
      "My height is 178.0 cm\n",
      "My height is 180.0 cm\n",
      "My height is 200.0 cm\n"
     ]
    }
   ],
   "source": [
    "# Body Height Conversion\n",
    "height_inches = 70 #inches\n",
    "height_cm = height_inches * 2.54\n",
    "print(\"My height is\", height_cm, \"cm\")\n",
    "print(\"My height is\", round(height_cm, 0), \"cm\")\n",
    "print(\"My height is\", round(height_cm, -1), \"cm\")\n",
    "print(\"My height is\", round(height_cm, -2), \"cm\")\n",
    "\n",
    "# Student question - why do we need to separate inputs by commas? \n",
    "# Answer - it allows you to detach strings from variables and allows you to pass variables already defined in memory."
   ]
  },
  {
   "cell_type": "code",
   "execution_count": 29,
   "metadata": {},
   "outputs": [
    {
     "name": "stdout",
     "output_type": "stream",
     "text": [
      "<class 'str'>\n",
      "<class 'float'>\n",
      "<class 'int'>\n"
     ]
    }
   ],
   "source": [
    "# Data types\n",
    "print(type(\"hello world\"))\n",
    "print(type(4.0))\n",
    "print(type(4))"
   ]
  },
  {
   "cell_type": "code",
   "execution_count": 30,
   "metadata": {},
   "outputs": [
    {
     "name": "stdout",
     "output_type": "stream",
     "text": [
      "7\n",
      "-1\n",
      "12\n",
      "0.75\n",
      "81\n",
      "2\n"
     ]
    }
   ],
   "source": [
    "# The last part of this notebook consists of simple arithmetic operations\n",
    "# In python we can store information in the form of variables.\n",
    "# We use variables so that we can use useful information in later steps. For instance:\n",
    "\n",
    "print(3 + 4)\n",
    "print(3 - 4)\n",
    "print(3 * 4)\n",
    "print(3 / 4)\n",
    "print(3**4)\n",
    "print(10 % 4)\n",
    "\n",
    "# This case is trivial and we could have easily written c = 1 + 3\n",
    "# Often times, we deal with multiple values (arrays) or extensive datasets \n",
    "# (in which case we use variables)"
   ]
  },
  {
   "cell_type": "code",
   "execution_count": 43,
   "metadata": {},
   "outputs": [
    {
     "name": "stdout",
     "output_type": "stream",
     "text": [
      "A^2 + B^2 = 34\n"
     ]
    }
   ],
   "source": [
    "# PROBLEM\n",
    "\n",
    "# Given two positive integers a and b\n",
    "# Return the integer corresponding to the suare of the hypotenuse of the right triangle\n",
    "# Whose legs have lengths a and b\n",
    "\n",
    "# for instance, if a = 5 and b = 3, the result should be 54\n",
    "\n",
    "# Hint, define a and b as two separate variables. A function would be better\n",
    "\n",
    "a = 5\n",
    "b = 3\n",
    "result = a**2 + b**2\n",
    "\n",
    "print(\"A^2 + B^2 =\", result)\n"
   ]
  }
 ],
 "metadata": {
  "kernelspec": {
   "display_name": "Python 3",
   "language": "python",
   "name": "python3"
  },
  "language_info": {
   "codemirror_mode": {
    "name": "ipython",
    "version": 3
   },
   "file_extension": ".py",
   "mimetype": "text/x-python",
   "name": "python",
   "nbconvert_exporter": "python",
   "pygments_lexer": "ipython3",
   "version": "3.7.1"
  }
 },
 "nbformat": 4,
 "nbformat_minor": 2
}
