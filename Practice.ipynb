{
 "cells": [
  {
   "cell_type": "code",
   "execution_count": 19,
   "metadata": {},
   "outputs": [
    {
     "name": "stdout",
     "output_type": "stream",
     "text": [
      "[1, 2, 3, 4, 5, 6, 7, 8, 9, 10]\n",
      "['one', 'two', 'three', 'four', 'five', 'six', 'seven', 'eight', 'nine', 'ten']\n",
      "['uno', 'dos', 'tres', 'quatro', 'cinco', 'seis', 'siete', 'ocho', 'nueve', 'diez']\n",
      "['uno', 'dos', 'tres', 'quatro', 'cinco', 'seis', 'siete', 'ocho', 'nueve', 'diez']\n",
      "['one', 'two', 'three', 'four', 'five', 'six', 'seven', 'eight', 'nine', 'ten']\n",
      "[1, 2, 3, 4, 5, 6, 7, 8, 9, 10]\n"
     ]
    }
   ],
   "source": [
    "numerical = [1,2,3,4,5,6,7,8,9,10]\n",
    "English = ['one','two','three','four','five','six','seven','eight','nine','ten']\n",
    "Spanish = ['uno','dos','tres','quatro','cinco','seis','siete','ocho','nueve','diez']\n",
    "print(numerical)\n",
    "print(English)\n",
    "print(Spanish)\n",
    "\n",
    "Spanish[0] = English[0]\n",
    "\n",
    "Spanish[0] = \"uno\"\n",
    "print(Spanish)\n",
    "print(English)\n",
    "print(numerical)"
   ]
  },
  {
   "cell_type": "code",
   "execution_count": null,
   "metadata": {},
   "outputs": [],
   "source": []
  }
 ],
 "metadata": {
  "kernelspec": {
   "display_name": "Python 3",
   "language": "python",
   "name": "python3"
  },
  "language_info": {
   "codemirror_mode": {
    "name": "ipython",
    "version": 3
   },
   "file_extension": ".py",
   "mimetype": "text/x-python",
   "name": "python",
   "nbconvert_exporter": "python",
   "pygments_lexer": "ipython3",
   "version": "3.7.1"
  }
 },
 "nbformat": 4,
 "nbformat_minor": 2
}
