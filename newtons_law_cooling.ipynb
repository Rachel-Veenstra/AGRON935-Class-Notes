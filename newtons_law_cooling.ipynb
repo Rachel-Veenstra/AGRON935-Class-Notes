{
 "cells": [
  {
   "cell_type": "code",
   "execution_count": 1,
   "metadata": {},
   "outputs": [],
   "source": [
    "# derivative of the temperature / derivative of the time ... rate of change\n",
    "# dT/dt = constant(temperature of the object - ambient temperature)\n",
    "\n",
    "## change in temperature = constant(Tobject - Tambient)(change in time) ... smaller change in time is more accurate (MORE LOOPS!)"
   ]
  },
  {
   "cell_type": "code",
   "execution_count": 2,
   "metadata": {},
   "outputs": [],
   "source": [
    "# EXAMPLE WITH A CUP OF COFFEE"
   ]
  },
  {
   "cell_type": "code",
   "execution_count": 15,
   "metadata": {},
   "outputs": [],
   "source": [
    "# defining model inputs\n",
    "\n",
    "T_cup = [80] # defined as list because we will be building this variable and adding more values to show the temperature history\n",
    "T_amb = 22\n",
    "delta_t = 1 # minute\n",
    "period = 60 # minutes\n",
    "K = 0.0215"
   ]
  },
  {
   "cell_type": "code",
   "execution_count": 9,
   "metadata": {},
   "outputs": [
    {
     "data": {
      "text/plain": [
       "[80,\n",
       " 78.753,\n",
       " 77.506,\n",
       " 76.2858105,\n",
       " 75.0924315,\n",
       " 73.92528657425001,\n",
       " 72.78379929700002,\n",
       " 71.66740563565364,\n",
       " 70.57555395076814,\n",
       " 69.50770472960158,\n",
       " 68.46333031966007,\n",
       " 67.44191466797363,\n",
       " 66.44295306610094,\n",
       " 65.46595190073951,\n",
       " 64.51042840981835,\n",
       " 63.575910443952445,\n",
       " 62.661936233141354,\n",
       " 61.76805415859638,\n",
       " 60.89382252958384,\n",
       " 60.03880936517402,\n",
       " 59.20259218078797,\n",
       " 58.384757779436725,\n",
       " 57.58490204754978,\n",
       " 56.802629755291896,\n",
       " 56.03755436126958,\n",
       " 55.2892978215308,\n",
       " 54.557490402763506,\n",
       " 53.84177049960059,\n",
       " 53.14178445594118,\n",
       " 52.457186390199766,\n",
       " 51.78763802439703,\n",
       " 51.13280851700774,\n",
       " 50.4923742994832,\n",
       " 49.86601891636754,\n",
       " 49.25343286892865,\n",
       " 48.654313462226746,\n",
       " 48.06836465554478,\n",
       " 47.4952969161069,\n",
       " 46.93482707601269,\n",
       " 46.38667819231639,\n",
       " 45.850579410182114,\n",
       " 45.32626582904731,\n",
       " 44.813478371728394,\n",
       " 44.311963656403876,\n",
       " 43.82147387141171,\n",
       " 43.34176665279903,\n",
       " 42.87260496456368,\n",
       " 42.4137569815285,\n",
       " 41.964995974790384,\n",
       " 41.52610019968752,\n",
       " 41.096852786229526,\n",
       " 40.67704163193624,\n",
       " 40.266459297032306,\n",
       " 39.864902901945676,\n",
       " 39.47217402705948,\n",
       " 39.08807861466765,\n",
       " 38.712426873085874,\n",
       " 38.34503318287052,\n",
       " 37.98571600509918,\n",
       " 37.634297791667464,\n",
       " 37.290604897557834]"
      ]
     },
     "execution_count": 9,
     "metadata": {},
     "output_type": "execute_result"
    }
   ],
   "source": [
    "# implementing law of cooling\n",
    "\n",
    "for t in range(0, period):\n",
    "    T_cup.append(T_cup[t] + -K*(T_cup[t-1] - T_amb)*delta_t)\n",
    "    \n",
    "T_cup"
   ]
  },
  {
   "cell_type": "code",
   "execution_count": 16,
   "metadata": {},
   "outputs": [
    {
     "name": "stdout",
     "output_type": "stream",
     "text": [
      "-1.2469999999999999\n",
      "-1.2201894999999998\n",
      "-1.1939554257499998\n",
      "-1.1682853840963747\n",
      "-1.1431672483383026\n",
      "-1.118589152499029\n",
      "-1.0945394857203001\n",
      "-1.0710068867773135\n",
      "-1.0479802387116013\n",
      "-1.0254486635793019\n",
      "-1.003401517312347\n",
      "-0.9818283846901317\n",
      "-0.9607190744192938\n",
      "-0.9400636143192791\n",
      "-0.9198522466114145\n",
      "-0.9000754233092692\n",
      "-0.8807238017081198\n",
      "-0.8617882399713952\n",
      "-0.8432597928120102\n",
      "-0.8251297072665519\n",
      "-0.807389418560321\n",
      "-0.7900305460612741\n",
      "-0.7730448893209567\n",
      "-0.7564244242005561\n",
      "-0.7401612990802443\n",
      "-0.7242478311500191\n",
      "-0.7086765027802937\n",
      "-0.6934399579705174\n",
      "-0.6785309988741512\n",
      "-0.663942582398357\n",
      "-0.6496678168767924\n",
      "-0.6356999588139414\n",
      "-0.6220324096994415\n",
      "-0.6086587128909035\n",
      "-0.5955725505637491\n",
      "-0.5827677407266285\n",
      "-0.570238234301006\n",
      "-0.5579781122635342\n",
      "-0.5459815828498683\n",
      "-0.5342429788185961\n",
      "-0.5227567547739963\n",
      "-0.5115174845463554\n",
      "-0.5005198586286088\n",
      "-0.4897586816680938\n",
      "-0.47922887001222975\n",
      "-0.46892544930696684\n",
      "-0.45884355214686706\n",
      "-0.44897841577570946\n",
      "-0.43932537983653164\n",
      "-0.4298798841700462\n",
      "-0.42063746666039015\n",
      "-0.4115937611271918\n",
      "-0.40274449526295714\n",
      "-0.3940854886148035\n",
      "-0.3856126506095852\n",
      "-0.3773219786214791\n",
      "-0.3692095560811173\n",
      "-0.36127155062537325\n",
      "-0.3535042122869277\n"
     ]
    },
    {
     "data": {
      "text/plain": [
       "[80,\n",
       " 78.753,\n",
       " 77.5328105,\n",
       " 76.33885507424999,\n",
       " 75.17056969015361,\n",
       " 74.02740244181531,\n",
       " 72.90881328931629,\n",
       " 71.81427380359598,\n",
       " 70.74326691681867,\n",
       " 69.69528667810707,\n",
       " 68.66983801452777,\n",
       " 67.66643649721543,\n",
       " 66.6846081125253,\n",
       " 65.72388903810601,\n",
       " 64.78382542378672,\n",
       " 63.86397317717531,\n",
       " 62.96389775386604,\n",
       " 62.08317395215792,\n",
       " 61.221385712186525,\n",
       " 60.37812591937451,\n",
       " 59.552996212107956,\n",
       " 58.74560679354764,\n",
       " 57.95557624748636,\n",
       " 57.182531358165406,\n",
       " 56.42610693396485,\n",
       " 55.68594563488461,\n",
       " 54.961697803734594,\n",
       " 54.2530213009543,\n",
       " 53.55958134298378,\n",
       " 52.88105034410963,\n",
       " 52.217107761711276,\n",
       " 51.56743994483448,\n",
       " 50.93173998602054,\n",
       " 50.309707576321095,\n",
       " 49.701048863430195,\n",
       " 49.10547631286644,\n",
       " 48.52270857213981,\n",
       " 47.952470337838804,\n",
       " 47.39449222557527,\n",
       " 46.8485106427254,\n",
       " 46.314267663906804,\n",
       " 45.79151090913281,\n",
       " 45.27999342458646,\n",
       " 44.77947356595785,\n",
       " 44.28971488428976,\n",
       " 43.81048601427753,\n",
       " 43.341560564970564,\n",
       " 42.8827170128237,\n",
       " 42.433738597047984,\n",
       " 41.99441321721145,\n",
       " 41.5645333330414,\n",
       " 41.143895866381015,\n",
       " 40.73230210525382,\n",
       " 40.329557609990864,\n",
       " 39.93547212137606,\n",
       " 39.54985947076647,\n",
       " 39.17253749214499,\n",
       " 38.80332793606387,\n",
       " 38.4420563854385,\n",
       " 38.08855217315157]"
      ]
     },
     "execution_count": 16,
     "metadata": {},
     "output_type": "execute_result"
    }
   ],
   "source": [
    "for t in range (1, period):\n",
    "    delta_T = -K*(T_cup[t-1] - T_amb)*delta_t\n",
    "    print(delta_T)\n",
    "    T_cup_new = T_cup[t-1] + delta_T\n",
    "    T_cup.append(T_cup_new)\n",
    "    \n",
    "T_cup"
   ]
  },
  {
   "cell_type": "code",
   "execution_count": 17,
   "metadata": {},
   "outputs": [],
   "source": [
    "import matplotlib.pyplot as plt\n",
    "%matplotlib inline"
   ]
  },
  {
   "cell_type": "code",
   "execution_count": 18,
   "metadata": {},
   "outputs": [
    {
     "data": {
      "text/plain": [
       "[<matplotlib.lines.Line2D at 0x20f91736d30>]"
      ]
     },
     "execution_count": 18,
     "metadata": {},
     "output_type": "execute_result"
    },
    {
     "data": {
      "image/png": "[encoded data removed]",
      "text/plain": [
       "<Figure size 432x288 with 1 Axes>"
      ]
     },
     "metadata": {
      "needs_background": "light"
     },
     "output_type": "display_data"
    }
   ],
   "source": [
    "time_points = range(0, period)\n",
    "\n",
    "plt.figure()\n",
    "plt.plot(time_points,T_cup)"
   ]
  },
  {
   "cell_type": "code",
   "execution_count": 12,
   "metadata": {},
   "outputs": [
    {
     "name": "stdout",
     "output_type": "stream",
     "text": [
      "[0, 1, 2, 3, 4, 5, 6, 7, 8, 9, 10, 11, 12, 13, 14, 15, 16, 17, 18, 19, 20, 21, 22, 23, 24, 25, 26, 27, 28, 29, 30, 31, 32, 33, 34, 35, 36, 37, 38, 39, 40, 41, 42, 43, 44, 45, 46, 47, 48, 49, 50, 51, 52, 53, 54, 55, 56, 57, 58, 59]\n"
     ]
    }
   ],
   "source": [
    "print(list(time_points))"
   ]
  },
  {
   "cell_type": "code",
   "execution_count": 19,
   "metadata": {},
   "outputs": [
    {
     "name": "stdout",
     "output_type": "stream",
     "text": [
      "60\n"
     ]
    }
   ],
   "source": [
    "print(len(T_cup))"
   ]
  }
 ],
 "metadata": {
  "kernelspec": {
   "display_name": "Python 3",
   "language": "python",
   "name": "python3"
  },
  "language_info": {
   "codemirror_mode": {
    "name": "ipython",
    "version": 3
   },
   "file_extension": ".py",
   "mimetype": "text/x-python",
   "name": "python",
   "nbconvert_exporter": "python",
   "pygments_lexer": "ipython3",
   "version": "3.7.1"
  }
 },
 "nbformat": 4,
 "nbformat_minor": 2
}
