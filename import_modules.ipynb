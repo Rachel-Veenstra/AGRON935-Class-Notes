{
 "cells": [
  {
   "cell_type": "code",
   "execution_count": 1,
   "metadata": {},
   "outputs": [],
   "source": [
    "# To create new markdown file, go to file, export notebook as, select \"markdown\"!"
   ]
  },
  {
   "cell_type": "code",
   "execution_count": 3,
   "metadata": {},
   "outputs": [
    {
     "name": "stdout",
     "output_type": "stream",
     "text": [
      "3.7.1 (default, Dec 10 2018, 22:54:23) [MSC v.1915 64 bit (AMD64)]\n"
     ]
    }
   ],
   "source": [
    "# IMPORTING MODULES\n",
    "\n",
    "# import system module\n",
    "import sys\n",
    "print(sys.version)"
   ]
  },
  {
   "cell_type": "code",
   "execution_count": null,
   "metadata": {},
   "outputs": [],
   "source": [
    "# sys. + (tab key) to see options (different functions in a module)\n",
    "\n",
    "sys."
   ]
  },
  {
   "cell_type": "code",
   "execution_count": 5,
   "metadata": {},
   "outputs": [],
   "source": [
    "# Import Operating System Module\n",
    "\n",
    "import os"
   ]
  },
  {
   "cell_type": "code",
   "execution_count": 7,
   "metadata": {},
   "outputs": [
    {
     "name": "stdout",
     "output_type": "stream",
     "text": [
      "C:\\Users\\Rachel Veenstra\\Desktop\\Coding\\AGRON935-Class-Notes\n"
     ]
    }
   ],
   "source": [
    "print(os.getcwd())\n",
    "\n",
    "## must have empty paretheses to work () = called as function"
   ]
  },
  {
   "cell_type": "code",
   "execution_count": 17,
   "metadata": {},
   "outputs": [
    {
     "name": "stdout",
     "output_type": "stream",
     "text": [
      "['C:', 'Users', 'Rachel Veenstra', 'Desktop', 'Coding', 'AGRON935-Class-Notes']\n",
      "\\\n"
     ]
    }
   ],
   "source": [
    "print(os.getcwd().split(os.sep))\n",
    "\n",
    "## within the operating system, get the current working directory ... split the operating system according\n",
    "## to where the items are separated with \\\n",
    "\n",
    "print(os.sep)"
   ]
  },
  {
   "cell_type": "code",
   "execution_count": 21,
   "metadata": {},
   "outputs": [
    {
     "name": "stdout",
     "output_type": "stream",
     "text": [
      "['C:', 'Users', 'Rachel Veenstra', 'Desktop', 'Coding', 'AGRON935-Class-Notes']\n",
      "<class 'list'>\n",
      "C:\\Users\\Rachel Veenstra\\Desktop\\Coding\\AGRON935-Class-Notes\n",
      "<class 'str'>\n"
     ]
    }
   ],
   "source": [
    "my_var = os.getcwd().split(os.sep)\n",
    "print(my_var)\n",
    "print(type(my_var))\n",
    "## list\n",
    "\n",
    "my_dir = os.getcwd()\n",
    "print(my_dir)\n",
    "print(type(my_dir))\n",
    "## string"
   ]
  },
  {
   "cell_type": "code",
   "execution_count": 23,
   "metadata": {},
   "outputs": [
    {
     "name": "stdout",
     "output_type": "stream",
     "text": [
      "Users\n"
     ]
    }
   ],
   "source": [
    "foldername = my_var[1]\n",
    "print(foldername)"
   ]
  },
  {
   "cell_type": "code",
   "execution_count": 27,
   "metadata": {},
   "outputs": [
    {
     "name": "stdout",
     "output_type": "stream",
     "text": [
      "time.struct_time(tm_year=2019, tm_mon=2, tm_mday=5, tm_hour=15, tm_min=25, tm_sec=3, tm_wday=1, tm_yday=36, tm_isdst=0)\n"
     ]
    }
   ],
   "source": [
    "import time\n",
    "print(time.localtime())\n",
    "## \"time.\"\" ## useful for timezone differences, etc. in data"
   ]
  },
  {
   "cell_type": "code",
   "execution_count": 29,
   "metadata": {},
   "outputs": [
    {
     "name": "stdout",
     "output_type": "stream",
     "text": [
      "time.struct_time(tm_year=2019, tm_mon=2, tm_mday=5, tm_hour=15, tm_min=25, tm_sec=23, tm_wday=1, tm_yday=36, tm_isdst=0)\n"
     ]
    }
   ],
   "source": [
    "import time as t\n",
    "print (t.localtime())"
   ]
  }
 ],
 "metadata": {
  "kernelspec": {
   "display_name": "Python 3",
   "language": "python",
   "name": "python3"
  },
  "language_info": {
   "codemirror_mode": {
    "name": "ipython",
    "version": 3
   },
   "file_extension": ".py",
   "mimetype": "text/x-python",
   "name": "python",
   "nbconvert_exporter": "python",
   "pygments_lexer": "ipython3",
   "version": "3.7.1"
  }
 },
 "nbformat": 4,
 "nbformat_minor": 2
}
