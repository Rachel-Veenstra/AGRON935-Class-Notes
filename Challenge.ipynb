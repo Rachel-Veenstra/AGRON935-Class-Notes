{
 "cells": [
  {
   "cell_type": "code",
   "execution_count": null,
   "metadata": {},
   "outputs": [],
   "source": [
    "# write a script that calculates the day of the year for the current date and time\n",
    "# The script must output both the DOY as an integer and the fraction of the day"
   ]
  },
  {
   "cell_type": "code",
   "execution_count": 19,
   "metadata": {},
   "outputs": [
    {
     "name": "stdout",
     "output_type": "stream",
     "text": [
      "43 days, 14:49:02.747171\n"
     ]
    }
   ],
   "source": [
    "import datetime\n",
    "\n",
    "start_date = datetime.datetime(2018,12,31)\n",
    "current_date = datetime.datetime.now()\n",
    "\n",
    "DOY = current_date - start_date\n",
    "print(DOY)"
   ]
  },
  {
   "cell_type": "code",
   "execution_count": 22,
   "metadata": {},
   "outputs": [
    {
     "name": "stdout",
     "output_type": "stream",
     "text": [
      "42.622917484155096\n",
      "Day of year: 42\n",
      "Fraction of the day: 0.62\n"
     ]
    }
   ],
   "source": [
    "import datetime\n",
    "import math\n",
    "\n",
    "date = datetime.datetime.now()\n",
    "dateOne = datetime.datetime(date.year,1,1)\n",
    "\n",
    "dateDiff = date - dateOne # operations between datetime objects result in date of year\n",
    "\n",
    "doy_float = dateDiff.total_seconds()/86400 # gives the doy with decimal places\n",
    "doy_int = math.floor(doy_float) \n",
    "doy_fraction = doy_float - doy_int\n",
    "\n",
    "print(doy_float)\n",
    "print('Day of year: ' + str(doy_int))\n",
    "print('Fraction of the day: ' + str(round(doy_fraction,2)))"
   ]
  }
 ],
 "metadata": {
  "kernelspec": {
   "display_name": "Python 3",
   "language": "python",
   "name": "python3"
  },
  "language_info": {
   "codemirror_mode": {
    "name": "ipython",
    "version": 3
   },
   "file_extension": ".py",
   "mimetype": "text/x-python",
   "name": "python",
   "nbconvert_exporter": "python",
   "pygments_lexer": "ipython3",
   "version": "3.7.1"
  }
 },
 "nbformat": 4,
 "nbformat_minor": 2
}
