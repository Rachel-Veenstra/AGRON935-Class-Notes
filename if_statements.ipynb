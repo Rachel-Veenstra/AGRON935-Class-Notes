{
 "cells": [
  {
   "cell_type": "markdown",
   "metadata": {},
   "source": [
    "# If Statements"
   ]
  },
  {
   "cell_type": "code",
   "execution_count": 3,
   "metadata": {},
   "outputs": [
    {
     "name": "stdout",
     "output_type": "stream",
     "text": [
      "This is my favorite number\n"
     ]
    }
   ],
   "source": [
    "value = 8\n",
    "\n",
    "if value == 8:\n",
    "    print(\"This is my favorite number\")\n",
    "    \n",
    "value2 = 5\n",
    "\n",
    "if value == 5:\n",
    "    print(\"this is not my favorite\")"
   ]
  },
  {
   "cell_type": "code",
   "execution_count": 4,
   "metadata": {},
   "outputs": [],
   "source": [
    "## if (condition):\n",
    "##     (do something)\n",
    "\n",
    "## == testing for exactly equal (python sees as True/False values)\n",
    "## <= less than or equal to\n",
    "## >= greater than or equal to"
   ]
  },
  {
   "cell_type": "code",
   "execution_count": 6,
   "metadata": {},
   "outputs": [
    {
     "name": "stdout",
     "output_type": "stream",
     "text": [
      "This is NOT my favorite number\n"
     ]
    }
   ],
   "source": [
    "value = 5\n",
    "\n",
    "if value == 8:\n",
    "    print(\"This is my favorite number\")\n",
    "else:\n",
    "    print(\"This is NOT my favorite number\")"
   ]
  },
  {
   "cell_type": "code",
   "execution_count": 12,
   "metadata": {},
   "outputs": [
    {
     "name": "stdout",
     "output_type": "stream",
     "text": [
      "I am even\n"
     ]
    }
   ],
   "source": [
    "import math\n",
    "\n",
    "value = 8\n",
    "\n",
    "if value % 2 == 0: ## syntax for showing division remainder\n",
    "    print(\"I am even\")\n",
    "else:\n",
    "    print('I am odd')"
   ]
  },
  {
   "cell_type": "code",
   "execution_count": 14,
   "metadata": {},
   "outputs": [
    {
     "data": {
      "text/plain": [
       "0"
      ]
     },
     "execution_count": 14,
     "metadata": {},
     "output_type": "execute_result"
    }
   ],
   "source": [
    "value % 2"
   ]
  },
  {
   "cell_type": "code",
   "execution_count": 20,
   "metadata": {},
   "outputs": [
    {
     "name": "stdout",
     "output_type": "stream",
     "text": [
      "True\n",
      "<class 'bool'>\n"
     ]
    },
    {
     "ename": "TypeError",
     "evalue": "'value' is an invalid keyword argument for print()",
     "output_type": "error",
     "traceback": [
      "\u001b[1;31m---------------------------------------------------------------------------\u001b[0m",
      "\u001b[1;31mTypeError\u001b[0m                                 Traceback (most recent call last)",
      "\u001b[1;32m<ipython-input-20-16c422f9b4fb>\u001b[0m in \u001b[0;36m<module>\u001b[1;34m\u001b[0m\n\u001b[0;32m      1\u001b[0m \u001b[0mprint\u001b[0m\u001b[1;33m(\u001b[0m\u001b[0mvalue\u001b[0m\u001b[1;33m==\u001b[0m\u001b[1;36m8\u001b[0m\u001b[1;33m)\u001b[0m\u001b[1;33m\u001b[0m\u001b[1;33m\u001b[0m\u001b[0m\n\u001b[0;32m      2\u001b[0m \u001b[0mprint\u001b[0m\u001b[1;33m(\u001b[0m\u001b[0mtype\u001b[0m\u001b[1;33m(\u001b[0m\u001b[0mvalue\u001b[0m\u001b[1;33m==\u001b[0m\u001b[1;36m8\u001b[0m\u001b[1;33m)\u001b[0m\u001b[1;33m)\u001b[0m\u001b[1;33m\u001b[0m\u001b[1;33m\u001b[0m\u001b[0m\n\u001b[1;32m----> 3\u001b[1;33m \u001b[0mprint\u001b[0m\u001b[1;33m(\u001b[0m\u001b[0mvalue\u001b[0m\u001b[1;33m=\u001b[0m\u001b[1;36m8\u001b[0m\u001b[1;33m)\u001b[0m\u001b[1;33m\u001b[0m\u001b[1;33m\u001b[0m\u001b[0m\n\u001b[0m",
      "\u001b[1;31mTypeError\u001b[0m: 'value' is an invalid keyword argument for print()"
     ]
    }
   ],
   "source": [
    "print(value==8)\n",
    "print(type(value==8))\n",
    "print(value=8)"
   ]
  },
  {
   "cell_type": "code",
   "execution_count": 24,
   "metadata": {},
   "outputs": [
    {
     "name": "stdout",
     "output_type": "stream",
     "text": [
      "This is perfect\n"
     ]
    }
   ],
   "source": [
    "value = 8\n",
    "\n",
    "if value > 10:\n",
    "    print(\"Value too high\")\n",
    "elif value <=10 & value >=5: ## and &, or |\n",
    "    print(\"This is perfect\")\n",
    "elif value <=8 & value >=5:  ## while this is also true, because the program found a true statement, it exited before running this\n",
    "    print(\"This is perfect, too\")\n",
    "else:\n",
    "    print(\"Value too low\")"
   ]
  },
  {
   "cell_type": "code",
   "execution_count": 30,
   "metadata": {},
   "outputs": [
    {
     "name": "stdout",
     "output_type": "stream",
     "text": [
      "True\n"
     ]
    }
   ],
   "source": [
    "value = 5\n",
    "\n",
    "print(value <= 8 | value >= 5)"
   ]
  },
  {
   "cell_type": "code",
   "execution_count": 39,
   "metadata": {},
   "outputs": [
    {
     "name": "stdout",
     "output_type": "stream",
     "text": [
      "Crop not found. Options are corn or soybean. Your input was: CORN\n",
      "The base temp is: 8\n"
     ]
    }
   ],
   "source": [
    "crop = 'CORN'\n",
    "\n",
    "if crop == 'corn':\n",
    "    Tbase = 8 # celsius\n",
    "    print(\"The base temp is:\", Tbase)\n",
    "    \n",
    "elif crop == 'soybean':\n",
    "    Tbase = 10 # celsius\n",
    "    print(\"The base temp is:\", Tbase)\n",
    "    \n",
    "else:\n",
    "    print(\"Crop not found. Options are corn or soybean. Your input was:\", crop)\n",
    "    \n",
    "\n",
    "\n",
    "crop = crop.lower()    ## making strings readable\n",
    "if crop == 'corn':\n",
    "    Tbase = 8 # celsius\n",
    "    print(\"The base temp is:\", Tbase)\n",
    "    \n",
    "elif crop == 'soybean':\n",
    "    Tbase = 10 # celsius\n",
    "    print(\"The base temp is:\", Tbase)\n",
    "    \n",
    "else:\n",
    "    print(\"Crop not found. Options are corn or soybean. Your input was:\", crop)"
   ]
  },
  {
   "cell_type": "code",
   "execution_count": 40,
   "metadata": {},
   "outputs": [
    {
     "name": "stdout",
     "output_type": "stream",
     "text": [
      "corn\n"
     ]
    }
   ],
   "source": [
    "print(crop.lower())"
   ]
  },
  {
   "cell_type": "code",
   "execution_count": 42,
   "metadata": {},
   "outputs": [
    {
     "name": "stdout",
     "output_type": "stream",
     "text": [
      "Number 0 is even.\n",
      "Number 1 is odd.\n",
      "Number 2 is even.\n",
      "Number 3 is odd.\n",
      "Number 4 is even.\n",
      "Number 5 is odd.\n",
      "Number 6 is even.\n",
      "Number 7 is odd.\n",
      "Number 8 is even.\n",
      "Number 9 is odd.\n"
     ]
    }
   ],
   "source": [
    "for value in range(0,10): ## numbers 0-9\n",
    "    if value % 2 == 0:\n",
    "        print(\"Number\", value, \"is even.\")\n",
    "    else:\n",
    "        print(\"Number\", value, \"is odd.\")"
   ]
  }
 ],
 "metadata": {
  "kernelspec": {
   "display_name": "Python 3",
   "language": "python",
   "name": "python3"
  },
  "language_info": {
   "codemirror_mode": {
    "name": "ipython",
    "version": 3
   },
   "file_extension": ".py",
   "mimetype": "text/x-python",
   "name": "python",
   "nbconvert_exporter": "python",
   "pygments_lexer": "ipython3",
   "version": "3.7.1"
  }
 },
 "nbformat": 4,
 "nbformat_minor": 2
}
