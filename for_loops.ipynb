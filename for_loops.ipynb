{
 "cells": [
  {
   "cell_type": "markdown",
   "metadata": {},
   "source": [
    "# For loops"
   ]
  },
  {
   "cell_type": "code",
   "execution_count": 1,
   "metadata": {},
   "outputs": [],
   "source": [
    "# for item in listofitems:\n",
    "#     do something\n",
    "## four spaces of indentation (ctrl + ])"
   ]
  },
  {
   "cell_type": "code",
   "execution_count": 3,
   "metadata": {},
   "outputs": [
    {
     "name": "stdout",
     "output_type": "stream",
     "text": [
      "0\n",
      "1\n",
      "2\n"
     ]
    }
   ],
   "source": [
    "for i in range(0,3):\n",
    "    print(i)\n",
    "# D = read_csv\n",
    "# for i in range(0,len(D))\n",
    "\n",
    "# D[row,column]\n",
    "# D[row,i]\n",
    "# range does not diplay last number"
   ]
  },
  {
   "cell_type": "code",
   "execution_count": 5,
   "metadata": {},
   "outputs": [
    {
     "name": "stdout",
     "output_type": "stream",
     "text": [
      "range(0, 3)\n"
     ]
    }
   ],
   "source": [
    "print(range(0,3))"
   ]
  },
  {
   "cell_type": "code",
   "execution_count": 7,
   "metadata": {},
   "outputs": [
    {
     "name": "stdout",
     "output_type": "stream",
     "text": [
      "[0, 1, 2]\n"
     ]
    }
   ],
   "source": [
    "print(list(range(0,3)))"
   ]
  },
  {
   "cell_type": "code",
   "execution_count": 9,
   "metadata": {},
   "outputs": [
    {
     "name": "stdout",
     "output_type": "stream",
     "text": [
      "mollisols\n",
      "hapludols\n",
      "alfisols\n"
     ]
    }
   ],
   "source": [
    "soils = [\"mollisols\", 'hapludols', 'alfisols']\n",
    "for x in soils:\n",
    "    print(x)"
   ]
  },
  {
   "cell_type": "code",
   "execution_count": 10,
   "metadata": {},
   "outputs": [
    {
     "name": "stdout",
     "output_type": "stream",
     "text": [
      "mollisols\n",
      "hapludols\n",
      "alfisols\n"
     ]
    }
   ],
   "source": [
    "for order in soils:\n",
    "    print(order)"
   ]
  },
  {
   "cell_type": "code",
   "execution_count": 12,
   "metadata": {},
   "outputs": [
    {
     "name": "stdout",
     "output_type": "stream",
     "text": [
      "1b\n",
      "1a\n",
      "1c\n",
      "2b\n",
      "2a\n",
      "2c\n",
      "3b\n",
      "3a\n",
      "3c\n"
     ]
    }
   ],
   "source": [
    "## NESTED FOR LOOPS\n",
    "## can be used to loop anything with pattern - plot names, file names, etc.\n",
    "\n",
    "plot = range(1,4)\n",
    "rep = ['b','a','c']\n",
    "for i in plot:\n",
    "    for j in rep:\n",
    "        print(str(i) + j)"
   ]
  },
  {
   "cell_type": "code",
   "execution_count": 28,
   "metadata": {},
   "outputs": [],
   "source": [
    "import glob\n",
    "## 'absolute path' for retreiving a directory\n",
    "glob.os.chdir(\"/Users/Rachel Veenstra/Desktop/Coding/introcoding-spring-2019/Datasets\")"
   ]
  },
  {
   "cell_type": "code",
   "execution_count": 33,
   "metadata": {},
   "outputs": [
    {
     "name": "stdout",
     "output_type": "stream",
     "text": [
      "ch1_down_the_rabbit_hole.txt\n",
      "<class 'str'>\n",
      "dna_sequence.txt\n",
      "<class 'str'>\n",
      "jabberwocky_lewis_carroll.txt\n",
      "<class 'str'>\n",
      "morse_lookup_table.txt\n",
      "<class 'str'>\n",
      "nobel_physics.txt\n",
      "<class 'str'>\n",
      "ch1_down_the_rabbit_hole.txt\n",
      "corn_allometric_biomass.csv\n",
      "dna_sequence.txt\n",
      "fargo_hourly_deep_soil_temperature.csv\n",
      "global_wheat.csv\n",
      "gypsum_daily_2018.csv\n",
      "gypsum_hourly.csv\n",
      "jabberwocky_lewis_carroll.txt\n",
      "mauna_loa_co2.csv\n",
      "morse_lookup_table.txt\n",
      "mosquito_abundance.csv\n",
      "nobel_physics.txt\n",
      "population_area_and_density.csv\n",
      "tribune_daily_historical.csv\n",
      "wheat.jpg\n",
      "world_wheat.csv\n"
     ]
    }
   ],
   "source": [
    "for file in glob.glob('*.txt'):\n",
    "    print(file)\n",
    "    print(type(file))\n",
    "    \n",
    "for file in glob.glob('*.*'):\n",
    "    print(file)\n"
   ]
  }
 ],
 "metadata": {
  "kernelspec": {
   "display_name": "Python 3",
   "language": "python",
   "name": "python3"
  },
  "language_info": {
   "codemirror_mode": {
    "name": "ipython",
    "version": 3
   },
   "file_extension": ".py",
   "mimetype": "text/x-python",
   "name": "python",
   "nbconvert_exporter": "python",
   "pygments_lexer": "ipython3",
   "version": "3.7.1"
  }
 },
 "nbformat": 4,
 "nbformat_minor": 2
}
