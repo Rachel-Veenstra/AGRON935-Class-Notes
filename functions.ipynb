{
 "cells": [
  {
   "cell_type": "markdown",
   "metadata": {},
   "source": [
    "# FUN functions"
   ]
  },
  {
   "cell_type": "markdown",
   "metadata": {},
   "source": [
    "##### Step 1 - create function\n",
    "##### Step 2 - call/use function"
   ]
  },
  {
   "cell_type": "code",
   "execution_count": 10,
   "metadata": {},
   "outputs": [],
   "source": [
    "## Defining a function\n",
    "def squarednum(x):\n",
    "    a = x**2\n",
    "    print(a)"
   ]
  },
  {
   "cell_type": "code",
   "execution_count": 12,
   "metadata": {},
   "outputs": [
    {
     "name": "stdout",
     "output_type": "stream",
     "text": [
      "4\n"
     ]
    }
   ],
   "source": [
    "squarednum(2)"
   ]
  },
  {
   "cell_type": "code",
   "execution_count": 15,
   "metadata": {},
   "outputs": [
    {
     "name": "stdout",
     "output_type": "stream",
     "text": [
      "4\n",
      "None\n"
     ]
    }
   ],
   "source": [
    "## calling the function\n",
    "c = squarednum(2)\n",
    "print(c)"
   ]
  },
  {
   "cell_type": "code",
   "execution_count": 17,
   "metadata": {},
   "outputs": [],
   "source": [
    "## WORKSPACE\n",
    "## example - leaving and coming back with the answer "
   ]
  },
  {
   "cell_type": "code",
   "execution_count": 19,
   "metadata": {},
   "outputs": [],
   "source": [
    "def numsquared(x):\n",
    "    a = x**2\n",
    "    return a ## stops process and stores/shows value"
   ]
  },
  {
   "cell_type": "code",
   "execution_count": 21,
   "metadata": {},
   "outputs": [
    {
     "data": {
      "text/plain": [
       "4"
      ]
     },
     "execution_count": 21,
     "metadata": {},
     "output_type": "execute_result"
    }
   ],
   "source": [
    "numsquared(2)"
   ]
  },
  {
   "cell_type": "code",
   "execution_count": 26,
   "metadata": {},
   "outputs": [
    {
     "name": "stdout",
     "output_type": "stream",
     "text": [
      "0\n",
      "1\n",
      "4\n",
      "9\n",
      "16\n",
      "25\n",
      "36\n",
      "49\n",
      "64\n",
      "81\n"
     ]
    }
   ],
   "source": [
    "for i in range(0,10):\n",
    "    print(numsquared(i))"
   ]
  },
  {
   "cell_type": "code",
   "execution_count": 32,
   "metadata": {},
   "outputs": [],
   "source": [
    "## FEB 21 - WRITE A FUNCTION THAT CALCULATES AND RETURNS THE AREA AND VOLUME OF A CONE\n",
    "# Inputs - radius and height of cone\n",
    "# Volume = pi*r**2*h/3\n",
    "# Area = base area\n",
    "\n",
    "import math\n",
    "\n",
    "def cone(R,H):\n",
    "    \"\"\"Calculates the area and colume of a cone \n",
    "    \n",
    "    Inputs: \n",
    "            radius in cm \n",
    "            height in cm\n",
    "    Outputs: \n",
    "            cone volume in cm^3 \n",
    "            cone base area in cm^2\n",
    "            \n",
    "    Author: RV\n",
    "    Date: 21-Feb-2019\n",
    "    \"\"\"\n",
    "    area = (math.pi)*(R**2) ## area in cm^2 \n",
    "    vol = (area)*H/3 ## volume in cm^3\n",
    "    print(\"Your cone's base area is \" + str(area) +\", and it's volume is \" + str(vol) + \".\")\n",
    "    return area, vol"
   ]
  },
  {
   "cell_type": "code",
   "execution_count": 33,
   "metadata": {},
   "outputs": [
    {
     "name": "stdout",
     "output_type": "stream",
     "text": [
      "Your cone's base area is 12.566370614359172, and it's volume is 20.943951023931955.\n"
     ]
    },
    {
     "data": {
      "text/plain": [
       "(12.566370614359172, 20.943951023931955)"
      ]
     },
     "execution_count": 33,
     "metadata": {},
     "output_type": "execute_result"
    }
   ],
   "source": [
    "cone(2,5)"
   ]
  },
  {
   "cell_type": "code",
   "execution_count": 34,
   "metadata": {},
   "outputs": [
    {
     "name": "stdout",
     "output_type": "stream",
     "text": [
      "Your cone's base area is 12.566370614359172, and it's volume is 20.943951023931955.\n"
     ]
    },
    {
     "data": {
      "text/plain": [
       "(12.566370614359172, 20.943951023931955)"
      ]
     },
     "execution_count": 34,
     "metadata": {},
     "output_type": "execute_result"
    }
   ],
   "source": [
    "cone(H=5,R=2) ## can change order of variables if called as original names"
   ]
  },
  {
   "cell_type": "code",
   "execution_count": 39,
   "metadata": {},
   "outputs": [
    {
     "name": "stdout",
     "output_type": "stream",
     "text": [
      "Your cone's base area is 12.566370614359172, and it's volume is 20.943951023931955.\n",
      "<class 'tuple'>\n"
     ]
    },
    {
     "data": {
      "text/plain": [
       "(12.566370614359172, 20.943951023931955)"
      ]
     },
     "execution_count": 39,
     "metadata": {},
     "output_type": "execute_result"
    }
   ],
   "source": [
    "values = cone(2,5)\n",
    "print(type(values))\n",
    "values[0], values[1]"
   ]
  },
  {
   "cell_type": "code",
   "execution_count": 48,
   "metadata": {},
   "outputs": [],
   "source": [
    "## Function to compute the sum of all the integers between 1 - 100\n",
    "import math\n",
    "\n",
    "def fun100():\n",
    "    x = sum(range(1,101))\n",
    "    return x"
   ]
  },
  {
   "cell_type": "code",
   "execution_count": 49,
   "metadata": {},
   "outputs": [
    {
     "data": {
      "text/plain": [
       "5050"
      ]
     },
     "execution_count": 49,
     "metadata": {},
     "output_type": "execute_result"
    }
   ],
   "source": [
    "fun100()"
   ]
  },
  {
   "cell_type": "code",
   "execution_count": 51,
   "metadata": {},
   "outputs": [],
   "source": [
    "def funsum(a,b):\n",
    "    y = sum(range(a,(b+1)))\n",
    "    return y"
   ]
  },
  {
   "cell_type": "code",
   "execution_count": 54,
   "metadata": {},
   "outputs": [
    {
     "data": {
      "text/plain": [
       "5050"
      ]
     },
     "execution_count": 54,
     "metadata": {},
     "output_type": "execute_result"
    }
   ],
   "source": [
    "funsum(0,100)"
   ]
  }
 ],
 "metadata": {
  "kernelspec": {
   "display_name": "Python 3",
   "language": "python",
   "name": "python3"
  },
  "language_info": {
   "codemirror_mode": {
    "name": "ipython",
    "version": 3
   },
   "file_extension": ".py",
   "mimetype": "text/x-python",
   "name": "python",
   "nbconvert_exporter": "python",
   "pygments_lexer": "ipython3",
   "version": "3.7.1"
  }
 },
 "nbformat": 4,
 "nbformat_minor": 2
}
