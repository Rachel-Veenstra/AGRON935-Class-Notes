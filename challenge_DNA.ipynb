{
 "cells": [
  {
   "cell_type": "markdown",
   "metadata": {},
   "source": [
    "# Challenge: DNA Matching Strand\n",
    "#### Rachel Veenstra"
   ]
  },
  {
   "cell_type": "code",
   "execution_count": 2,
   "metadata": {},
   "outputs": [],
   "source": [
    "## Importing Modules\n",
    "\n",
    "import glob"
   ]
  },
  {
   "cell_type": "code",
   "execution_count": 5,
   "metadata": {},
   "outputs": [
    {
     "name": "stdout",
     "output_type": "stream",
     "text": [
      "<class 'list'>\n"
     ]
    }
   ],
   "source": [
    "# Navigating to directory,loading file, and handling extra header levels in file\n",
    "\n",
    "data_file = '/Users/Rachel Veenstra/Desktop/Coding/introcoding-spring-2019/Datasets'\n",
    "glob.os.chdir(data_file)\n",
    "\n",
    "dna_file = open('dna_sequence.txt').read().split('\\n')\n",
    "dna_bases = dna_file[9:] ## removing header sections of file\n",
    "print(type(dna_bases))"
   ]
  },
  {
   "cell_type": "code",
   "execution_count": 4,
   "metadata": {},
   "outputs": [],
   "source": [
    "# Defining my \"dnamatching\" function\n",
    "\n",
    "def dnamatching(bases): # one input\n",
    "    \"\"\"\n",
    "    Creates complementary strand for set of known DNA bases\n",
    "    \n",
    "    Inputs:\n",
    "            ONLY ONE ALLOWED\n",
    "            \n",
    "            Variable assigned to desired rows in a data table \n",
    "            OR\n",
    "            Variable assigned to a string of bases provided directly by user\n",
    "                ... example formats: ('A','T','G') or 'AGTCGA'\n",
    "          \n",
    "    Author: Rachel Veenstra\n",
    "    Date: 22-Feb-2019\n",
    "    \"\"\"\n",
    "    match = '' # creating empty string to add matching bases to\n",
    "    for i in bases: # iterating over all items in the input given\n",
    "        if i == 'G':\n",
    "            match = match + 'C' # adding complimentary base to list of matches\n",
    "        elif i == 'C':\n",
    "            match = match + 'G'\n",
    "        elif i == 'A':\n",
    "            match = match + 'T'\n",
    "        elif i == 'T':\n",
    "            match = match + 'A'\n",
    "        else:\n",
    "            return \"Unknown base found: \" + i # printing an error and halting function if unknown base is found\n",
    "    return match # showing user the complementary base"
   ]
  },
  {
   "cell_type": "code",
   "execution_count": 5,
   "metadata": {},
   "outputs": [
    {
     "data": {
      "text/plain": [
       "'TGTCAATCCATAGCAGCTCTCAATGTTCGATTTTGCTCGTCATCAGTCGAGACGTAGACTTCGGCGACTT'"
      ]
     },
     "execution_count": 5,
     "metadata": {},
     "output_type": "execute_result"
    }
   ],
   "source": [
    "# Calling the function and storing output in a variable\n",
    "\n",
    "dna = dna_bases[0] ## calling the line of the dataset to run with the function\n",
    "\n",
    "dna_matching_strand = dnamatching(dna) ## assigning valuables to variable and calling function\n",
    "dna_matching_strand ## running function"
   ]
  },
  {
   "cell_type": "markdown",
   "metadata": {},
   "source": [
    "### Checks & Additional Examples"
   ]
  },
  {
   "cell_type": "code",
   "execution_count": 6,
   "metadata": {},
   "outputs": [
    {
     "name": "stdout",
     "output_type": "stream",
     "text": [
      "<class 'str'>\n"
     ]
    }
   ],
   "source": [
    "# Checking class type of output\n",
    "\n",
    "print(type(dna_matching_strand))"
   ]
  },
  {
   "cell_type": "code",
   "execution_count": 12,
   "metadata": {},
   "outputs": [
    {
     "data": {
      "text/plain": [
       "'Unknown base found: U'"
      ]
     },
     "execution_count": 12,
     "metadata": {},
     "output_type": "execute_result"
    }
   ],
   "source": [
    "## Providing an example of the alternate input identification, with an unknown base\n",
    "\n",
    "dna_list = ('AUTGA')\n",
    "\n",
    "dnamatching(dna_list)"
   ]
  },
  {
   "cell_type": "code",
   "execution_count": 14,
   "metadata": {},
   "outputs": [
    {
     "data": {
      "text/plain": [
       "'CTAGGAGGTA'"
      ]
     },
     "execution_count": 14,
     "metadata": {},
     "output_type": "execute_result"
    }
   ],
   "source": [
    "## EXAMPLE FROM ASSIGNMENT\n",
    "dna = 'GATCCTCCAT'\n",
    "dna_matching_strand = dnamatching(dna)\n",
    "dna_matching_strand"
   ]
  }
 ],
 "metadata": {
  "kernelspec": {
   "display_name": "Python 3",
   "language": "python",
   "name": "python3"
  },
  "language_info": {
   "codemirror_mode": {
    "name": "ipython",
    "version": 3
   },
   "file_extension": ".py",
   "mimetype": "text/x-python",
   "name": "python",
   "nbconvert_exporter": "python",
   "pygments_lexer": "ipython3",
   "version": "3.7.1"
  }
 },
 "nbformat": 4,
 "nbformat_minor": 2
}
