{
 "cells": [
  {
   "cell_type": "markdown",
   "metadata": {},
   "source": [
    "while (condition):\n",
    "\n",
    "    (operation)\n",
    "    \n",
    "... similar to for loop, but can be infinite"
   ]
  },
  {
   "cell_type": "code",
   "execution_count": 2,
   "metadata": {},
   "outputs": [
    {
     "name": "stdout",
     "output_type": "stream",
     "text": [
      "0\n",
      "1\n",
      "2\n"
     ]
    }
   ],
   "source": [
    "A = 0 # initializing variable\n",
    "\n",
    "while A < 3:\n",
    "    print(A)\n",
    "    A += 1"
   ]
  },
  {
   "cell_type": "code",
   "execution_count": null,
   "metadata": {},
   "outputs": [],
   "source": [
    "# HANGMAN EXAMPLE\n",
    "\n",
    "failed_attempts = 0\n",
    "\n",
    "while failed_attempts < 4:\n",
    "    \n",
    "    # for loop for checking each letter of word\n",
    "    \n",
    "        # if statement\n",
    "        \n",
    "        # else\n",
    "            failed_attempts += 1\n",
    "\n",
    "print(failed_attempts)\n",
    "\n",
    "# '_' vs '_ ' for joining\n",
    "# from IPython.display import clear_output"
   ]
  }
 ],
 "metadata": {
  "kernelspec": {
   "display_name": "Python 3",
   "language": "python",
   "name": "python3"
  },
  "language_info": {
   "codemirror_mode": {
    "name": "ipython",
    "version": 3
   },
   "file_extension": ".py",
   "mimetype": "text/x-python",
   "name": "python",
   "nbconvert_exporter": "python",
   "pygments_lexer": "ipython3",
   "version": "3.7.1"
  }
 },
 "nbformat": 4,
 "nbformat_minor": 2
}
