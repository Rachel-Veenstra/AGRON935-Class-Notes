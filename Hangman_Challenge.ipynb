{
 "cells": [
  {
   "cell_type": "code",
   "execution_count": 2,
   "metadata": {},
   "outputs": [
    {
     "data": {
      "text/plain": [
       "['V', 'E', 'E', 'N', 'S', 'T', 'R', 'A']"
      ]
     },
     "execution_count": 2,
     "metadata": {},
     "output_type": "execute_result"
    }
   ],
   "source": [
    "#Creating word for P1\n",
    "\n",
    "#input('Player 1: Provide word for P2')\n",
    "\n",
    "#input = word\n",
    "word = 'Veenstra'\n",
    "\n",
    "word_list = list(word.upper())\n",
    "word_list"
   ]
  },
  {
   "cell_type": "code",
   "execution_count": 3,
   "metadata": {},
   "outputs": [
    {
     "data": {
      "text/plain": [
       "['_', '_', '_', '_', '_', '_', '_', '_']"
      ]
     },
     "execution_count": 3,
     "metadata": {},
     "output_type": "execute_result"
    }
   ],
   "source": [
    "# Creating lists\n",
    "correct = []\n",
    "incorrect = []\n",
    "\n",
    "for i in range(len(word_list)):\n",
    "    correct.append('_')\n",
    "    \n",
    "correct"
   ]
  },
  {
   "cell_type": "code",
   "execution_count": 55,
   "metadata": {},
   "outputs": [
    {
     "name": "stdin",
     "output_type": "stream",
     "text": [
      "Player 1: Guess a letter! a\n",
      "Player 1: Guess a letter! b\n",
      "Player 1: Guess a letter! c\n",
      "Player 1: Guess a letter! d\n",
      "Player 1: Guess a letter! e\n"
     ]
    }
   ],
   "source": [
    "while len(set(incorrect)) < 5:\n",
    "    \n",
    "    guess = input(\"Player 1: Guess a letter!\").upper()\n",
    "    \n",
    "    for index, letter in enumerate(word_list):\n",
    "        if (letter == guess):\n",
    "            correct[index] = word_list[index]\n",
    "        elif (letter != guess):\n",
    "            incorrect.append(guess)"
   ]
  },
  {
   "cell_type": "code",
   "execution_count": 3,
   "metadata": {},
   "outputs": [
    {
     "name": "stdin",
     "output_type": "stream",
     "text": [
      "Player 1: Guess a letter! a\n",
      "Player 1: Guess a letter! b\n",
      "Player 1: Guess a letter! c\n",
      "Player 1: Guess a letter! d\n",
      "Player 1: Guess a letter! e\n"
     ]
    }
   ],
   "source": [
    "while len(set(incorrect)) < 5:\n",
    "    \n",
    "    guess = input(\"Player 1: Guess a letter!\").upper()\n",
    "    \n",
    "    for index, letter in enumerate(word_list):\n",
    "        \n",
    "        if (word_list[index] == guess):\n",
    "            correct[index] = word_list[index]\n",
    "            \n",
    "        else:\n",
    "            \n",
    "            for index in enumerate(word_list):\n",
    "                \n",
    "                if (index != guess):\n",
    "                    incorrect.append(guess)"
   ]
  },
  {
   "cell_type": "code",
   "execution_count": 4,
   "metadata": {},
   "outputs": [
    {
     "name": "stdin",
     "output_type": "stream",
     "text": [
      "Player 1: Guess a letter! a\n",
      "Player 1: Guess a letter! b\n",
      "Player 1: Guess a letter! c\n",
      "Player 1: Guess a letter! d\n",
      "Player 1: Guess a letter! e\n",
      "Player 1: Guess a letter! f\n"
     ]
    }
   ],
   "source": [
    "while len(set(incorrect)) < 5:\n",
    "    \n",
    "    guess = input(\"Player 1: Guess a letter!\").upper()\n",
    "    \n",
    "    for i in range(len(word_list)):\n",
    "        \n",
    "        if (word_list[i] != guess):\n",
    "            incorrect.append(guess)\n",
    "            \n",
    "        else:\n",
    "            \n",
    "            correct[i] = word_list[i]"
   ]
  },
  {
   "cell_type": "code",
   "execution_count": null,
   "metadata": {},
   "outputs": [],
   "source": []
  },
  {
   "cell_type": "code",
   "execution_count": null,
   "metadata": {},
   "outputs": [],
   "source": [
    "incorrect"
   ]
  },
  {
   "cell_type": "code",
   "execution_count": 34,
   "metadata": {},
   "outputs": [
    {
     "ename": "TypeError",
     "evalue": "list indices must be integers or slices, not str",
     "output_type": "error",
     "traceback": [
      "\u001b[1;31m---------------------------------------------------------------------------\u001b[0m",
      "\u001b[1;31mTypeError\u001b[0m                                 Traceback (most recent call last)",
      "\u001b[1;32m<ipython-input-34-2bc6bc32de6a>\u001b[0m in \u001b[0;36m<module>\u001b[1;34m\u001b[0m\n\u001b[0;32m      1\u001b[0m \u001b[1;32mfor\u001b[0m \u001b[0mi\u001b[0m \u001b[1;32min\u001b[0m \u001b[0mword_list\u001b[0m\u001b[1;33m:\u001b[0m\u001b[1;33m\u001b[0m\u001b[1;33m\u001b[0m\u001b[0m\n\u001b[1;32m----> 2\u001b[1;33m     \u001b[1;33m[\u001b[0m\u001b[1;34m'A'\u001b[0m \u001b[1;32mif\u001b[0m \u001b[0mword_list\u001b[0m\u001b[1;33m[\u001b[0m\u001b[0mi\u001b[0m\u001b[1;33m]\u001b[0m\u001b[1;33m==\u001b[0m\u001b[1;34m'A'\u001b[0m \u001b[1;32melse\u001b[0m \u001b[0mx\u001b[0m \u001b[1;32mfor\u001b[0m \u001b[0mx\u001b[0m \u001b[1;32min\u001b[0m \u001b[0mcorrect\u001b[0m\u001b[1;33m]\u001b[0m\u001b[1;33m\u001b[0m\u001b[1;33m\u001b[0m\u001b[0m\n\u001b[0m",
      "\u001b[1;32m<ipython-input-34-2bc6bc32de6a>\u001b[0m in \u001b[0;36m<listcomp>\u001b[1;34m(.0)\u001b[0m\n\u001b[0;32m      1\u001b[0m \u001b[1;32mfor\u001b[0m \u001b[0mi\u001b[0m \u001b[1;32min\u001b[0m \u001b[0mword_list\u001b[0m\u001b[1;33m:\u001b[0m\u001b[1;33m\u001b[0m\u001b[1;33m\u001b[0m\u001b[0m\n\u001b[1;32m----> 2\u001b[1;33m     \u001b[1;33m[\u001b[0m\u001b[1;34m'A'\u001b[0m \u001b[1;32mif\u001b[0m \u001b[0mword_list\u001b[0m\u001b[1;33m[\u001b[0m\u001b[0mi\u001b[0m\u001b[1;33m]\u001b[0m\u001b[1;33m==\u001b[0m\u001b[1;34m'A'\u001b[0m \u001b[1;32melse\u001b[0m \u001b[0mx\u001b[0m \u001b[1;32mfor\u001b[0m \u001b[0mx\u001b[0m \u001b[1;32min\u001b[0m \u001b[0mcorrect\u001b[0m\u001b[1;33m]\u001b[0m\u001b[1;33m\u001b[0m\u001b[1;33m\u001b[0m\u001b[0m\n\u001b[0m",
      "\u001b[1;31mTypeError\u001b[0m: list indices must be integers or slices, not str"
     ]
    }
   ],
   "source": [
    "for i in word_list:\n",
    "    ['A' if word_list[i]=='A' else x for x in correct]"
   ]
  },
  {
   "cell_type": "code",
   "execution_count": 40,
   "metadata": {},
   "outputs": [
    {
     "data": {
      "text/plain": [
       "['_', 'E', 'E', '_', '_', '_', '_', 'A']"
      ]
     },
     "execution_count": 40,
     "metadata": {},
     "output_type": "execute_result"
    }
   ],
   "source": [
    "for index, item in enumerate(word_list):\n",
    "    if (item == 'E'):\n",
    "        correct[index] = word_list[index]\n",
    "correct"
   ]
  }
 ],
 "metadata": {
  "kernelspec": {
   "display_name": "Python 3",
   "language": "python",
   "name": "python3"
  },
  "language_info": {
   "codemirror_mode": {
    "name": "ipython",
    "version": 3
   },
   "file_extension": ".py",
   "mimetype": "text/x-python",
   "name": "python",
   "nbconvert_exporter": "python",
   "pygments_lexer": "ipython3",
   "version": "3.7.1"
  }
 },
 "nbformat": 4,
 "nbformat_minor": 2
}
