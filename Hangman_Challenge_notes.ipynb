{
 "cells": [
  {
   "cell_type": "code",
   "execution_count": 13,
   "metadata": {},
   "outputs": [],
   "source": [
    "#Creating word for P1\n",
    "\n",
    "#input('Player 1: Provide word for P2')\n",
    "\n",
    "#input = word\n",
    "word = 'Rachel'\n",
    "\n",
    "word_list = list(str(word))"
   ]
  },
  {
   "cell_type": "code",
   "execution_count": 14,
   "metadata": {},
   "outputs": [
    {
     "data": {
      "text/plain": [
       "['_', '_', '_', '_', '_', '_']"
      ]
     },
     "execution_count": 14,
     "metadata": {},
     "output_type": "execute_result"
    }
   ],
   "source": [
    "# Creating list\n",
    "correct = []\n",
    "incorrect = []\n",
    "\n",
    "for i in range(len(word_list)):\n",
    "    correct.append('_')\n",
    "    \n",
    "correct"
   ]
  },
  {
   "cell_type": "code",
   "execution_count": null,
   "metadata": {},
   "outputs": [],
   "source": [
    "while len(set(incorrect)) < 5:\n",
    "    input(\"Player 1: Guess a letter!\")\n",
    "    for i in range(len(word_list)):\n",
    "        if word_list[i] == input:\n",
    "            correct.replace(input)\n",
    "        else:\n",
    "            incorrect.append(input)\n",
    "guess"
   ]
  },
  {
   "cell_type": "code",
   "execution_count": 21,
   "metadata": {},
   "outputs": [
    {
     "data": {
      "text/plain": [
       "['R', '_', '_', '_', '_', '_', 'R', '_', '_', '_', '_', '_']"
      ]
     },
     "execution_count": 21,
     "metadata": {},
     "output_type": "execute_result"
    }
   ],
   "source": [
    "guess = 'R'\n",
    "for i in range(len(word_list)):\n",
    "    if word_list[i] == guess:\n",
    "        word_blank.append(guess)\n",
    "        correct.append(guess)\n",
    "    else:\n",
    "        word_blank.append('_')\n",
    "        incorrect.append(guess)\n",
    "        \n",
    "word_blank"
   ]
  },
  {
   "cell_type": "code",
   "execution_count": 1,
   "metadata": {},
   "outputs": [
    {
     "name": "stdin",
     "output_type": "stream",
     "text": [
      "Say something: a\n"
     ]
    },
    {
     "name": "stdout",
     "output_type": "stream",
     "text": [
      "0\n",
      "['_', 'A', '_', '_', '_', '_', '_', '_', '_']\n"
     ]
    },
    {
     "name": "stdin",
     "output_type": "stream",
     "text": [
      "Say something: a\n"
     ]
    },
    {
     "name": "stdout",
     "output_type": "stream",
     "text": [
      "0\n",
      "['_', 'A', '_', '_', '_', '_', '_', '_', '_']\n"
     ]
    },
    {
     "name": "stdin",
     "output_type": "stream",
     "text": [
      "Say something: s\n"
     ]
    },
    {
     "name": "stdout",
     "output_type": "stream",
     "text": [
      "1\n",
      "['_', 'A', '_', '_', '_', '_', '_', '_', '_']\n"
     ]
    },
    {
     "name": "stdin",
     "output_type": "stream",
     "text": [
      "Say something: d\n"
     ]
    },
    {
     "name": "stdout",
     "output_type": "stream",
     "text": [
      "2\n",
      "['_', 'A', '_', '_', '_', '_', '_', '_', '_']\n"
     ]
    },
    {
     "name": "stdin",
     "output_type": "stream",
     "text": [
      "Say something: f\n"
     ]
    },
    {
     "name": "stdout",
     "output_type": "stream",
     "text": [
      "3\n",
      "['_', 'A', '_', '_', '_', '_', '_', '_', '_']\n"
     ]
    },
    {
     "name": "stdin",
     "output_type": "stream",
     "text": [
      "Say something: c\n"
     ]
    },
    {
     "name": "stdout",
     "output_type": "stream",
     "text": [
      "3\n",
      "['_', 'A', 'C', '_', '_', '_', '_', '_', '_']\n"
     ]
    },
    {
     "name": "stdin",
     "output_type": "stream",
     "text": [
      "Say something: l\n"
     ]
    },
    {
     "name": "stdout",
     "output_type": "stream",
     "text": [
      "3\n",
      "['_', 'A', 'C', '_', '_', 'L', '_', '_', '_']\n",
      "3\n",
      "['_', 'A', 'C', '_', '_', 'L', 'L', '_', '_']\n",
      "3\n",
      "['_', 'A', 'C', '_', '_', 'L', 'L', 'L', '_']\n",
      "3\n",
      "['_', 'A', 'C', '_', '_', 'L', 'L', 'L', 'L']\n"
     ]
    },
    {
     "name": "stdin",
     "output_type": "stream",
     "text": [
      "Say something: f\n"
     ]
    },
    {
     "name": "stdout",
     "output_type": "stream",
     "text": [
      "4\n",
      "['_', 'A', 'C', '_', '_', 'L', 'L', 'L', 'L']\n"
     ]
    },
    {
     "name": "stdin",
     "output_type": "stream",
     "text": [
      "Say something: v\n"
     ]
    },
    {
     "name": "stdout",
     "output_type": "stream",
     "text": [
      "5\n",
      "['_', 'A', 'C', '_', '_', 'L', 'L', 'L', 'L']\n",
      "You are a loser!\n"
     ]
    }
   ],
   "source": [
    "secret = \"Rachellll\"\n",
    "secret = list(secret.upper())\n",
    "\n",
    "\n",
    "correct = ['_'] * len(secret)\n",
    "incorrect = []\n",
    "\n",
    "guess = []\n",
    "\n",
    "for i in range(len(set(secret))+4):\n",
    "    \n",
    "    if len(set(incorrect)) < 4:\n",
    "        \n",
    "        if (secret != correct):\n",
    "            \n",
    "            guess.append(input('Guess a letter:').upper())\n",
    "            \n",
    "            if guess[i] in secret:\n",
    "                \n",
    "                for f in range(len(secret)):\n",
    "                    \n",
    "                    if secret[f] == guess[i]:\n",
    "                        correct[f] = guess[i]\n",
    "                        print(len(incorrect))\n",
    "                        print(correct)\n",
    "                        \n",
    "            else:\n",
    "                \n",
    "                incorrect.append(guess[i])\n",
    "                print(len(incorrect))\n",
    "                print(correct)\n",
    "                \n",
    "        else:\n",
    "            \n",
    "            print('You are the winner!')\n",
    "            break\n",
    "            \n",
    "    else:\n",
    "        \n",
    "        print('You are a loser!')\n",
    "        break"
   ]
  },
  {
   "cell_type": "code",
   "execution_count": 4,
   "metadata": {},
   "outputs": [
    {
     "name": "stdin",
     "output_type": "stream",
     "text": [
      "P1 - Provide a word for Player 2: rachel\n",
      "P2 - Guess a letter: k\n"
     ]
    },
    {
     "name": "stdout",
     "output_type": "stream",
     "text": [
      "_ _ _ _ _ _\n"
     ]
    },
    {
     "name": "stdin",
     "output_type": "stream",
     "text": [
      "P2 - Guess a letter: g\n"
     ]
    },
    {
     "name": "stdout",
     "output_type": "stream",
     "text": [
      "_ _ _ _ _ _\n"
     ]
    },
    {
     "name": "stdin",
     "output_type": "stream",
     "text": [
      "P2 - Guess a letter: t\n"
     ]
    },
    {
     "name": "stdout",
     "output_type": "stream",
     "text": [
      "_ _ _ _ _ _\n"
     ]
    },
    {
     "name": "stdin",
     "output_type": "stream",
     "text": [
      "P2 - Guess a letter: e\n"
     ]
    },
    {
     "name": "stdout",
     "output_type": "stream",
     "text": [
      "_ _ _ _ E _\n"
     ]
    },
    {
     "name": "stdin",
     "output_type": "stream",
     "text": [
      "P2 - Guess a letter: f\n"
     ]
    },
    {
     "name": "stdout",
     "output_type": "stream",
     "text": [
      "_ _ _ _ E _\n",
      "GAME OVER\n"
     ]
    }
   ],
   "source": [
    "secret = input(\"P1 - Provide a word for Player 2:\").upper()\n",
    "secret = list(secret)\n",
    "\n",
    "correct = ['_'] * len(secret)\n",
    "incorrect = []\n",
    "\n",
    "while len(set(incorrect)) < 4 and correct != secret:\n",
    "        \n",
    "    guess = input('P2 - Guess a letter:').upper()\n",
    "            \n",
    "    for i in range(len(secret)):\n",
    "        \n",
    "        if guess in secret:\n",
    "                \n",
    "            if secret[i] == guess:\n",
    "                correct[i] = guess\n",
    "                \n",
    "        else:\n",
    "            incorrect.append(guess)\n",
    "        \n",
    "    print(' '.join(correct))\n",
    "\n",
    "print('GAME OVER')"
   ]
  },
  {
   "cell_type": "code",
   "execution_count": 28,
   "metadata": {},
   "outputs": [
    {
     "data": {
      "text/plain": [
       "9"
      ]
     },
     "execution_count": 28,
     "metadata": {},
     "output_type": "execute_result"
    }
   ],
   "source": [
    "incorrect"
   ]
  }
 ],
 "metadata": {
  "kernelspec": {
   "display_name": "Python 3",
   "language": "python",
   "name": "python3"
  },
  "language_info": {
   "codemirror_mode": {
    "name": "ipython",
    "version": 3
   },
   "file_extension": ".py",
   "mimetype": "text/x-python",
   "name": "python",
   "nbconvert_exporter": "python",
   "pygments_lexer": "ipython3",
   "version": "3.7.1"
  }
 },
 "nbformat": 4,
 "nbformat_minor": 2
}
