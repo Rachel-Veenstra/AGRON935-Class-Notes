{
 "cells": [
  {
   "cell_type": "markdown",
   "metadata": {},
   "source": [
    "# Importing Data"
   ]
  },
  {
   "cell_type": "code",
   "execution_count": 28,
   "metadata": {},
   "outputs": [
    {
     "name": "stdout",
     "output_type": "stream",
     "text": [
      "C:\\Users\\Rachel Veenstra\\Desktop\\Coding\\introcoding-spring-2019\\Datasets\n"
     ]
    }
   ],
   "source": [
    "import glob ## importing module\n",
    "\n",
    "root = '/Users/Rachel Veenstra/Desktop/' ## defining \n",
    "dataset_dir = root + '/Coding/introcoding-spring-2019/Datasets' ## defining directory\n",
    "\n",
    "glob.os.chdir(dataset_dir) # Tells the computer where to go\n",
    "\n",
    "print(glob.os.getcwd()) # print current working directory"
   ]
  },
  {
   "cell_type": "code",
   "execution_count": 7,
   "metadata": {},
   "outputs": [
    {
     "data": {
      "text/html": [
       "<div>\n",
       "<style scoped>\n",
       "    .dataframe tbody tr th:only-of-type {\n",
       "        vertical-align: middle;\n",
       "    }\n",
       "\n",
       "    .dataframe tbody tr th {\n",
       "        vertical-align: top;\n",
       "    }\n",
       "\n",
       "    .dataframe thead th {\n",
       "        text-align: right;\n",
       "    }\n",
       "</style>\n",
       "<table border=\"1\" class=\"dataframe\">\n",
       "  <thead>\n",
       "    <tr style=\"text-align: right;\">\n",
       "      <th></th>\n",
       "      <th>Date</th>\n",
       "      <th>Tmax</th>\n",
       "      <th>Tmin</th>\n",
       "      <th>Precipitation</th>\n",
       "      <th>Snow</th>\n",
       "    </tr>\n",
       "  </thead>\n",
       "  <tbody>\n",
       "    <tr>\n",
       "      <th>0</th>\n",
       "      <td>01/01/1900</td>\n",
       "      <td>32</td>\n",
       "      <td>13</td>\n",
       "      <td>0.0</td>\n",
       "      <td>0.0</td>\n",
       "    </tr>\n",
       "    <tr>\n",
       "      <th>1</th>\n",
       "      <td>02/01/1900</td>\n",
       "      <td>44</td>\n",
       "      <td>14</td>\n",
       "      <td>0.0</td>\n",
       "      <td>0.0</td>\n",
       "    </tr>\n",
       "    <tr>\n",
       "      <th>2</th>\n",
       "      <td>03/01/1900</td>\n",
       "      <td>53</td>\n",
       "      <td>28</td>\n",
       "      <td>0.0</td>\n",
       "      <td>0.0</td>\n",
       "    </tr>\n",
       "    <tr>\n",
       "      <th>3</th>\n",
       "      <td>04/01/1900</td>\n",
       "      <td>51</td>\n",
       "      <td>24</td>\n",
       "      <td>0.0</td>\n",
       "      <td>0.0</td>\n",
       "    </tr>\n",
       "    <tr>\n",
       "      <th>4</th>\n",
       "      <td>05/01/1900</td>\n",
       "      <td>48</td>\n",
       "      <td>24</td>\n",
       "      <td>0.0</td>\n",
       "      <td>0.0</td>\n",
       "    </tr>\n",
       "  </tbody>\n",
       "</table>\n",
       "</div>"
      ],
      "text/plain": [
       "         Date  Tmax  Tmin  Precipitation  Snow\n",
       "0  01/01/1900    32    13            0.0   0.0\n",
       "1  02/01/1900    44    14            0.0   0.0\n",
       "2  03/01/1900    53    28            0.0   0.0\n",
       "3  04/01/1900    51    24            0.0   0.0\n",
       "4  05/01/1900    48    24            0.0   0.0"
      ]
     },
     "execution_count": 7,
     "metadata": {},
     "output_type": "execute_result"
    }
   ],
   "source": [
    "import pandas as pd\n",
    "\n",
    "data = pd.read_csv('tribune_daily_historical.csv')\n",
    "\n",
    "data.head(5) ## to see pandas dataframe (top 5 rows)"
   ]
  },
  {
   "cell_type": "code",
   "execution_count": 9,
   "metadata": {},
   "outputs": [
    {
     "data": {
      "text/html": [
       "<div>\n",
       "<style scoped>\n",
       "    .dataframe tbody tr th:only-of-type {\n",
       "        vertical-align: middle;\n",
       "    }\n",
       "\n",
       "    .dataframe tbody tr th {\n",
       "        vertical-align: top;\n",
       "    }\n",
       "\n",
       "    .dataframe thead th {\n",
       "        text-align: right;\n",
       "    }\n",
       "</style>\n",
       "<table border=\"1\" class=\"dataframe\">\n",
       "  <thead>\n",
       "    <tr style=\"text-align: right;\">\n",
       "      <th></th>\n",
       "      <th>Albert Einstein</th>\n",
       "      <th>Unnamed: 1</th>\n",
       "    </tr>\n",
       "  </thead>\n",
       "  <tbody>\n",
       "    <tr>\n",
       "      <th>0</th>\n",
       "      <td>Werner Heisenberg</td>\n",
       "      <td>NaN</td>\n",
       "    </tr>\n",
       "    <tr>\n",
       "      <th>1</th>\n",
       "      <td>Marie Curie</td>\n",
       "      <td>NaN</td>\n",
       "    </tr>\n",
       "    <tr>\n",
       "      <th>2</th>\n",
       "      <td>Guglielmo Marconi</td>\n",
       "      <td>NaN</td>\n",
       "    </tr>\n",
       "    <tr>\n",
       "      <th>3</th>\n",
       "      <td>Peter Higgs</td>\n",
       "      <td>NaN</td>\n",
       "    </tr>\n",
       "    <tr>\n",
       "      <th>4</th>\n",
       "      <td>Enrico Fermi</td>\n",
       "      <td>NaN</td>\n",
       "    </tr>\n",
       "  </tbody>\n",
       "</table>\n",
       "</div>"
      ],
      "text/plain": [
       "     Albert Einstein  Unnamed: 1\n",
       "0  Werner Heisenberg         NaN\n",
       "1        Marie Curie         NaN\n",
       "2  Guglielmo Marconi         NaN\n",
       "3        Peter Higgs         NaN\n",
       "4       Enrico Fermi         NaN"
      ]
     },
     "execution_count": 9,
     "metadata": {},
     "output_type": "execute_result"
    }
   ],
   "source": [
    "names = pd.read_csv('nobel_physics.txt')\n",
    "names.head(5)  ## Albert Einstein understood as a header"
   ]
  },
  {
   "cell_type": "code",
   "execution_count": 21,
   "metadata": {},
   "outputs": [
    {
     "name": "stdout",
     "output_type": "stream",
     "text": [
      "0              Albert Einstein\n",
      "1            Werner Heisenberg\n",
      "2                  Marie Curie\n",
      "3            Guglielmo Marconi\n",
      "4                  Peter Higgs\n",
      "5                 Enrico Fermi\n",
      "6              Ernest Lawrence\n",
      "7                   Paul Dirac\n",
      "8                Lord Rayleigh\n",
      "9      Antoine Henri Becquerel\n",
      "10      Wilhelm Conrad Röntgen\n",
      "11             Hendrik Lorentz\n",
      "12                  Max Planck\n",
      "13                  Niels Bohr\n",
      "14                Gustav Hertz\n",
      "15           Werner Heisenberg\n",
      "16           Erwin Schrödinger\n",
      "17                  Paul Dirac\n",
      "18                Enrico Fermi\n",
      "19               Hideki Yukawa\n",
      "20    Richard Phillips Feynman\n",
      "Name: 0, dtype: object\n"
     ]
    },
    {
     "data": {
      "text/plain": [
       "array(['Albert Einstein', 'Werner Heisenberg', 'Marie Curie',\n",
       "       'Guglielmo Marconi', 'Peter Higgs', 'Enrico Fermi',\n",
       "       'Ernest Lawrence', 'Paul Dirac', 'Lord Rayleigh',\n",
       "       'Antoine Henri Becquerel', 'Wilhelm Conrad Röntgen',\n",
       "       'Hendrik Lorentz', 'Max Planck', 'Niels Bohr', 'Gustav Hertz',\n",
       "       'Werner Heisenberg', 'Erwin Schrödinger', 'Paul Dirac',\n",
       "       'Enrico Fermi', 'Hideki Yukawa', 'Richard Phillips Feynman'],\n",
       "      dtype=object)"
      ]
     },
     "execution_count": 21,
     "metadata": {},
     "output_type": "execute_result"
    }
   ],
   "source": [
    "names2 = pd.read_csv('nobel_physics.txt', header=None)\n",
    "names2.head(5)\n",
    "names_list = names2[0]\n",
    "print(names_list) ## no longer in dataframe\n",
    "\n",
    "names_x = names2[0].values ## no longer in dataframe\n",
    "names_x"
   ]
  },
  {
   "cell_type": "code",
   "execution_count": 23,
   "metadata": {},
   "outputs": [
    {
     "name": "stdout",
     "output_type": "stream",
     "text": [
      "Albert Einstein,\n",
      "Werner Heisenberg,\n",
      "Marie Curie,\n",
      "Guglielmo Marconi,\n",
      "Peter Higgs,\n",
      "Enrico Fermi,\n",
      "Ernest Lawrence,\n",
      "Paul Dirac,\n",
      "Lord Rayleigh,\n",
      "Antoine Henri Becquerel,\n",
      "Wilhelm Conrad RÃ¶ntgen,\n",
      "Hendrik Lorentz,\n",
      "Max Planck,\n",
      "Niels Bohr,\n",
      "Gustav Hertz,\n",
      "Werner Heisenberg,\n",
      "Erwin SchrÃ¶dinger,\n",
      "Paul Dirac,\n",
      "Enrico Fermi,\n",
      "Hideki Yukawa,\n",
      "Richard Phillips Feynman\n"
     ]
    }
   ],
   "source": [
    "file = open('nobel_physics.txt')\n",
    "names_list2 = file.read()  ## low level function due to manual requirements for data manipulation\n",
    "file.close()\n",
    "\n",
    "print(names_list2)"
   ]
  },
  {
   "cell_type": "code",
   "execution_count": 25,
   "metadata": {},
   "outputs": [
    {
     "name": "stdout",
     "output_type": "stream",
     "text": [
      "Albert Einstein,\n",
      "Werner Heisenberg,\n",
      "Marie Curie,\n",
      "Guglielmo Marconi,\n",
      "Peter Higgs,\n",
      "Enrico Fermi,\n",
      "Ernest Lawrence,\n",
      "Paul Dirac,\n",
      "Lord Rayleigh,\n",
      "Antoine Henri Becquerel,\n",
      "Wilhelm Conrad RÃ¶ntgen,\n",
      "Hendrik Lorentz,\n",
      "Max Planck,\n",
      "Niels Bohr,\n",
      "Gustav Hertz,\n",
      "Werner Heisenberg,\n",
      "Erwin SchrÃ¶dinger,\n",
      "Paul Dirac,\n",
      "Enrico Fermi,\n",
      "Hideki Yukawa,\n",
      "Richard Phillips Feynman\n"
     ]
    }
   ],
   "source": [
    "names_list3 = open('nobel_physics.txt').read()\n",
    "print(names_list3)"
   ]
  },
  {
   "cell_type": "code",
   "execution_count": 27,
   "metadata": {},
   "outputs": [
    {
     "name": "stdout",
     "output_type": "stream",
     "text": [
      "['Albert Einstein,', 'Werner Heisenberg,', 'Marie Curie,', 'Guglielmo Marconi,', 'Peter Higgs,', 'Enrico Fermi,', 'Ernest Lawrence,', 'Paul Dirac,', 'Lord Rayleigh,', 'Antoine Henri Becquerel,', 'Wilhelm Conrad RÃ¶ntgen,', 'Hendrik Lorentz,', 'Max Planck,', 'Niels Bohr,', 'Gustav Hertz,', 'Werner Heisenberg,', 'Erwin SchrÃ¶dinger,', 'Paul Dirac,', 'Enrico Fermi,', 'Hideki Yukawa,', 'Richard Phillips Feynman']\n"
     ]
    }
   ],
   "source": [
    "names_list4 = [line.strip('\\n') for line in open('nobel_physics.txt')] ##[] set this as a LIST datatype\n",
    "print(names_list4)"
   ]
  }
 ],
 "metadata": {
  "kernelspec": {
   "display_name": "Python 3",
   "language": "python",
   "name": "python3"
  },
  "language_info": {
   "codemirror_mode": {
    "name": "ipython",
    "version": 3
   },
   "file_extension": ".py",
   "mimetype": "text/x-python",
   "name": "python",
   "nbconvert_exporter": "python",
   "pygments_lexer": "ipython3",
   "version": "3.7.1"
  }
 },
 "nbformat": 4,
 "nbformat_minor": 2
}
