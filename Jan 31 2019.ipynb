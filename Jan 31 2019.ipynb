{
 "cells": [
  {
   "cell_type": "markdown",
   "metadata": {},
   "source": [
    "**Data Structures**"
   ]
  },
  {
   "cell_type": "code",
   "execution_count": 3,
   "metadata": {},
   "outputs": [
    {
     "name": "stdout",
     "output_type": "stream",
     "text": [
      "[1, 2, 3, 4]\n",
      "<class 'list'>\n"
     ]
    }
   ],
   "source": [
    "# lists or arrays\n",
    "myList = [1,2,3,4]\n",
    "print(myList)\n",
    "print(type(myList))"
   ]
  },
  {
   "cell_type": "code",
   "execution_count": 7,
   "metadata": {},
   "outputs": [
    {
     "name": "stdout",
     "output_type": "stream",
     "text": [
      "[2009, 2010, 2011, 2012, ['apple', 'orange']]\n"
     ]
    }
   ],
   "source": [
    "myList = [2009, 2010, 2011, 2012, [\"apple\", 'orange']]\n",
    "# myList values redefined, and \" or ' are okay with consistency\n",
    "# computer sees 2009, 2010, 2011, 2012, another_list\n",
    "print(myList)"
   ]
  },
  {
   "cell_type": "code",
   "execution_count": 8,
   "metadata": {},
   "outputs": [],
   "source": [
    "# shift + enter = new cell"
   ]
  },
  {
   "cell_type": "code",
   "execution_count": 9,
   "metadata": {},
   "outputs": [
    {
     "name": "stdout",
     "output_type": "stream",
     "text": [
      "2009\n"
     ]
    }
   ],
   "source": [
    "print(myList[0])"
   ]
  },
  {
   "cell_type": "code",
   "execution_count": 11,
   "metadata": {},
   "outputs": [],
   "source": [
    "# WHY is 0 the first item in list?\n",
    "# Depends on language (0 or 1-indexing)\n",
    "# in python, 0 = first, 1 = second, etc."
   ]
  },
  {
   "cell_type": "code",
   "execution_count": 23,
   "metadata": {},
   "outputs": [
    {
     "name": "stdout",
     "output_type": "stream",
     "text": [
      "['apple', 'orange']\n",
      "[2009, 2010, 2011, 2012, ['apple', 'orange']]\n",
      "apple\n"
     ]
    }
   ],
   "source": [
    "print(myList[4])\n",
    "print(myList)\n",
    "print(myList[4][0])\n",
    "\n",
    "# [4][0] is asking for first element of fifth element"
   ]
  },
  {
   "cell_type": "code",
   "execution_count": 15,
   "metadata": {},
   "outputs": [
    {
     "name": "stdout",
     "output_type": "stream",
     "text": [
      "['apple', 'orange']\n",
      "apple\n"
     ]
    }
   ],
   "source": [
    "# brackets are used to define lists\n",
    "fruits = myList[4]\n",
    "print(fruits)\n",
    "print(fruits[0])"
   ]
  },
  {
   "cell_type": "code",
   "execution_count": 26,
   "metadata": {},
   "outputs": [
    {
     "name": "stdout",
     "output_type": "stream",
     "text": [
      "1\n"
     ]
    }
   ],
   "source": [
    "print(myList.count(2009))"
   ]
  },
  {
   "cell_type": "code",
   "execution_count": 28,
   "metadata": {},
   "outputs": [
    {
     "name": "stdout",
     "output_type": "stream",
     "text": [
      "1\n"
     ]
    }
   ],
   "source": [
    "# \"myList.\" shows list of functions\n",
    "# function/method is the same thing\n",
    "\n",
    "# print(myList.count9np.isstr(myList))\n",
    "\n",
    "# computer will run from right to left of function line\n",
    "\n",
    "print(myList[4].count('apple'))\n"
   ]
  },
  {
   "cell_type": "code",
   "execution_count": 31,
   "metadata": {},
   "outputs": [
    {
     "name": "stdout",
     "output_type": "stream",
     "text": [
      "[[1, 2, 3], [4, 5, -6]]\n"
     ]
    }
   ],
   "source": [
    "# indexing\n",
    "M = [[1,2,3],[4,5,-6]]\n",
    "print(M)"
   ]
  },
  {
   "cell_type": "code",
   "execution_count": 34,
   "metadata": {},
   "outputs": [
    {
     "name": "stdout",
     "output_type": "stream",
     "text": [
      "p\n",
      "n\n",
      "n\n"
     ]
    }
   ],
   "source": [
    "p = ['p','y','t','h','o','n']\n",
    "\n",
    "# INDEXING LIST\n",
    "print(p[0])  # first element\n",
    "print(p[-1])  # last element\n",
    "print(p[5]) # last element"
   ]
  },
  {
   "cell_type": "code",
   "execution_count": 40,
   "metadata": {},
   "outputs": [
    {
     "name": "stdout",
     "output_type": "stream",
     "text": [
      "['p', 'y', 't']\n",
      "['p']\n",
      "['p', 'y', 't', 'h', 'o', 'n']\n",
      "5\n"
     ]
    }
   ],
   "source": [
    "# SLICING LIST\n",
    "print(p[0:3])  # first three element\n",
    "print(p[0:1])  # only first element\n",
    "print(p[0:6]) # first six elements (ie from beginning to the sixth item)\n",
    "\n",
    "# LENGTH OF LIST\n",
    "print(len(myList))"
   ]
  },
  {
   "cell_type": "code",
   "execution_count": 51,
   "metadata": {},
   "outputs": [
    {
     "name": "stdout",
     "output_type": "stream",
     "text": [
      "['t', 'h', 'o', 'n']\n",
      "['t', 'h', 'o', 'n']\n"
     ]
    }
   ],
   "source": [
    "print(p[2:])  # given space to end of list\n",
    "print(p[-4:]) # fourth from end to end"
   ]
  },
  {
   "cell_type": "code",
   "execution_count": 56,
   "metadata": {},
   "outputs": [
    {
     "name": "stdout",
     "output_type": "stream",
     "text": [
      "<class 'tuple'>\n",
      "1\n"
     ]
    }
   ],
   "source": [
    "# Tuples (not mutable/redefinable) ...not used very often\n",
    "myTuple = (1,2,3,4)\n",
    "print(type(myTuple))\n",
    "\n",
    "print(myTuple[0])"
   ]
  },
  {
   "cell_type": "code",
   "execution_count": 68,
   "metadata": {},
   "outputs": [
    {
     "name": "stdout",
     "output_type": "stream",
     "text": [
      "{'country': ['Brazil', 'Brazil', 'Uruguay', 'USA'], 'capital': ['BsAs', 'Brasilia', 'DC', 'Montevideo'], 'air_temp': [30, 28, 2, 23]}\n",
      "['Brazil', 'Brazil', 'Uruguay', 'USA']\n",
      "['BsAs', 'Brasilia', 'DC', 'Montevideo']\n",
      "[30, 28, 2, 23]\n"
     ]
    }
   ],
   "source": [
    "# DICTIONARIES (useful for data like weather ... ex: dates, precip, temp, etc.)\n",
    "\n",
    "myDict = {}\n",
    "\n",
    "myDict = {'country': ['Brazil', 'Brazil', 'Uruguay', 'USA'],\n",
    "        'capital': [\"BsAs\", 'Brasilia', 'DC', 'Montevideo'],\n",
    "         'air_temp': [30,28,2,23]}\n",
    "\n",
    "print(myDict)\n",
    "print(myDict['country'])\n",
    "print(myDict['capital'])\n",
    "print(myDict['air_temp'])\n",
    "\n",
    "# EXAMPLES\n",
    "# myDict = data table name\n",
    "# country = column of interest"
   ]
  },
  {
   "cell_type": "code",
   "execution_count": null,
   "metadata": {},
   "outputs": [],
   "source": [
    "x = input(\"w\")"
   ]
  },
  {
   "cell_type": "code",
   "execution_count": 73,
   "metadata": {},
   "outputs": [
    {
     "name": "stdout",
     "output_type": "stream",
     "text": [
      "['Kansas', 'Texas', 'Missouri', 'Nebraska', 'Texas']\n",
      "{'Kansas', 'Texas', 'Nebraska', 'Missouri'}\n",
      "1\n",
      "0\n",
      "False\n"
     ]
    }
   ],
   "source": [
    "# SETS\n",
    "states = ['Kansas','Texas','Missouri','Nebraska','Texas']\n",
    "\n",
    "print(states)\n",
    "\n",
    "print(set(states))\n",
    "\n",
    "print(states.count('Kansas'))\n",
    "\n",
    "print(states.count('Iowa'))\n",
    "\n",
    "print('Iowa' in states)\n",
    "\n",
    "#  if 'Kansas' in states.... (will be taught later)\n",
    "# | or\n",
    "# & and"
   ]
  },
  {
   "cell_type": "code",
   "execution_count": null,
   "metadata": {},
   "outputs": [],
   "source": [
    "# PRACTICE IMPUTTING VALUE TO CREATE ANOTHER (i.e., if this sky condition, then this temperature)"
   ]
  }
 ],
 "metadata": {
  "kernelspec": {
   "display_name": "Python 3",
   "language": "python",
   "name": "python3"
  },
  "language_info": {
   "codemirror_mode": {
    "name": "ipython",
    "version": 3
   },
   "file_extension": ".py",
   "mimetype": "text/x-python",
   "name": "python",
   "nbconvert_exporter": "python",
   "pygments_lexer": "ipython3",
   "version": "3.7.1"
  }
 },
 "nbformat": 4,
 "nbformat_minor": 2
}
