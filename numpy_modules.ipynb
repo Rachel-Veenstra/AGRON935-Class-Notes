{
 "cells": [
  {
   "cell_type": "code",
   "execution_count": 2,
   "metadata": {},
   "outputs": [
    {
     "name": "stdout",
     "output_type": "stream",
     "text": [
      "3\n",
      "6\n",
      "9\n",
      "12\n"
     ]
    }
   ],
   "source": [
    "A = [1,2,3,4]\n",
    "for i in A:\n",
    "    print(i*3)"
   ]
  },
  {
   "cell_type": "code",
   "execution_count": 3,
   "metadata": {},
   "outputs": [
    {
     "ename": "TypeError",
     "evalue": "can't multiply sequence by non-int of type 'list'",
     "output_type": "error",
     "traceback": [
      "\u001b[1;31m---------------------------------------------------------------------------\u001b[0m",
      "\u001b[1;31mTypeError\u001b[0m                                 Traceback (most recent call last)",
      "\u001b[1;32m<ipython-input-3-111b9504fc2f>\u001b[0m in \u001b[0;36m<module>\u001b[1;34m\u001b[0m\n\u001b[0;32m      1\u001b[0m \u001b[0mB\u001b[0m \u001b[1;33m=\u001b[0m \u001b[1;33m[\u001b[0m\u001b[1;36m5\u001b[0m\u001b[1;33m,\u001b[0m\u001b[1;36m6\u001b[0m\u001b[1;33m,\u001b[0m\u001b[1;36m7\u001b[0m\u001b[1;33m,\u001b[0m\u001b[1;36m8\u001b[0m\u001b[1;33m]\u001b[0m\u001b[1;33m\u001b[0m\u001b[1;33m\u001b[0m\u001b[0m\n\u001b[1;32m----> 2\u001b[1;33m \u001b[0mA\u001b[0m\u001b[1;33m*\u001b[0m\u001b[0mB\u001b[0m\u001b[1;33m\u001b[0m\u001b[1;33m\u001b[0m\u001b[0m\n\u001b[0m",
      "\u001b[1;31mTypeError\u001b[0m: can't multiply sequence by non-int of type 'list'"
     ]
    }
   ],
   "source": [
    "B = [5,6,7,8]\n",
    "A*B"
   ]
  },
  {
   "cell_type": "code",
   "execution_count": 4,
   "metadata": {},
   "outputs": [],
   "source": [
    "import numpy as np"
   ]
  },
  {
   "cell_type": "code",
   "execution_count": 5,
   "metadata": {},
   "outputs": [
    {
     "data": {
      "text/plain": [
       "array([ 5, 12, 21, 32])"
      ]
     },
     "execution_count": 5,
     "metadata": {},
     "output_type": "execute_result"
    }
   ],
   "source": [
    "# numpy arrays\n",
    "C = np.array([1,2,3,4])\n",
    "D = np.array([5,6,7,8]) #, dtype=\"float64\")\n",
    "C*D"
   ]
  },
  {
   "cell_type": "code",
   "execution_count": 6,
   "metadata": {},
   "outputs": [
    {
     "data": {
      "text/plain": [
       "numpy.ndarray"
      ]
     },
     "execution_count": 6,
     "metadata": {},
     "output_type": "execute_result"
    }
   ],
   "source": [
    "type(C)"
   ]
  },
  {
   "cell_type": "code",
   "execution_count": 7,
   "metadata": {},
   "outputs": [
    {
     "data": {
      "text/plain": [
       "array([ 1,  4,  9, 16])"
      ]
     },
     "execution_count": 7,
     "metadata": {},
     "output_type": "execute_result"
    }
   ],
   "source": [
    "C*A"
   ]
  },
  {
   "cell_type": "code",
   "execution_count": 8,
   "metadata": {},
   "outputs": [
    {
     "name": "stdout",
     "output_type": "stream",
     "text": [
      "[ 6  8 10 12]\n"
     ]
    }
   ],
   "source": [
    "print(C+D)"
   ]
  },
  {
   "cell_type": "code",
   "execution_count": 9,
   "metadata": {},
   "outputs": [
    {
     "name": "stdout",
     "output_type": "stream",
     "text": [
      "[4 4 4 4]\n"
     ]
    }
   ],
   "source": [
    "print(D-C)"
   ]
  },
  {
   "cell_type": "code",
   "execution_count": 10,
   "metadata": {},
   "outputs": [
    {
     "name": "stdout",
     "output_type": "stream",
     "text": [
      "[ 5 12 21 32]\n"
     ]
    }
   ],
   "source": [
    "print(C*D)"
   ]
  },
  {
   "cell_type": "code",
   "execution_count": 11,
   "metadata": {},
   "outputs": [
    {
     "name": "stdout",
     "output_type": "stream",
     "text": [
      "[0.2        0.33333333 0.42857143 0.5       ]\n"
     ]
    }
   ],
   "source": [
    "print(C/D) # automatically converts values to floats"
   ]
  },
  {
   "cell_type": "code",
   "execution_count": 12,
   "metadata": {},
   "outputs": [
    {
     "name": "stdout",
     "output_type": "stream",
     "text": [
      "[26 40 58 80]\n"
     ]
    }
   ],
   "source": [
    "print(C**2 + D**2)"
   ]
  },
  {
   "cell_type": "code",
   "execution_count": 13,
   "metadata": {},
   "outputs": [
    {
     "name": "stdout",
     "output_type": "stream",
     "text": [
      "[1 2 3 4]\n"
     ]
    }
   ],
   "source": [
    "print(C)"
   ]
  },
  {
   "cell_type": "code",
   "execution_count": 14,
   "metadata": {},
   "outputs": [
    {
     "data": {
      "text/plain": [
       "2.5"
      ]
     },
     "execution_count": 14,
     "metadata": {},
     "output_type": "execute_result"
    }
   ],
   "source": [
    "C.mean()"
   ]
  },
  {
   "cell_type": "code",
   "execution_count": 15,
   "metadata": {},
   "outputs": [
    {
     "data": {
      "text/plain": [
       "10"
      ]
     },
     "execution_count": 15,
     "metadata": {},
     "output_type": "execute_result"
    }
   ],
   "source": [
    "C.sum()"
   ]
  },
  {
   "cell_type": "code",
   "execution_count": 16,
   "metadata": {},
   "outputs": [
    {
     "data": {
      "text/plain": [
       "5050"
      ]
     },
     "execution_count": 16,
     "metadata": {},
     "output_type": "execute_result"
    }
   ],
   "source": [
    "np.array(range(101)).sum()"
   ]
  },
  {
   "cell_type": "code",
   "execution_count": 17,
   "metadata": {},
   "outputs": [
    {
     "data": {
      "text/plain": [
       "5050"
      ]
     },
     "execution_count": 17,
     "metadata": {},
     "output_type": "execute_result"
    }
   ],
   "source": [
    "np.arange(101).sum()"
   ]
  },
  {
   "cell_type": "code",
   "execution_count": 18,
   "metadata": {},
   "outputs": [
    {
     "data": {
      "text/plain": [
       "5050"
      ]
     },
     "execution_count": 18,
     "metadata": {},
     "output_type": "execute_result"
    }
   ],
   "source": [
    "sum(np.array(range(101)))"
   ]
  },
  {
   "cell_type": "code",
   "execution_count": 19,
   "metadata": {},
   "outputs": [
    {
     "name": "stdout",
     "output_type": "stream",
     "text": [
      "<class 'numpy.int32'>\n"
     ]
    }
   ],
   "source": [
    "print(type(sum(np.array(range(101)))))"
   ]
  },
  {
   "cell_type": "code",
   "execution_count": 20,
   "metadata": {},
   "outputs": [
    {
     "data": {
      "text/plain": [
       "array([[1, 2, 3, 4],\n",
       "       [5, 6, 7, 8]])"
      ]
     },
     "execution_count": 20,
     "metadata": {},
     "output_type": "execute_result"
    }
   ],
   "source": [
    "# TWO DIMENSIONAL ARRAY\n",
    "array2D = np.array([[1,2,3,4],[5,6,7,8]])\n",
    "array2D"
   ]
  },
  {
   "cell_type": "code",
   "execution_count": 21,
   "metadata": {},
   "outputs": [
    {
     "name": "stdout",
     "output_type": "stream",
     "text": [
      "2\n",
      "(2, 4)\n",
      "8\n",
      "int32\n"
     ]
    }
   ],
   "source": [
    "print(array2D.ndim) # showing number of dimensions\n",
    "print(array2D.shape) # giving actual dimensions ##TUPLE\n",
    "print(array2D.size) # gives number of elements\n",
    "print(array2D.dtype) # to show datatype"
   ]
  },
  {
   "cell_type": "code",
   "execution_count": 22,
   "metadata": {},
   "outputs": [
    {
     "data": {
      "text/plain": [
       "6"
      ]
     },
     "execution_count": 22,
     "metadata": {},
     "output_type": "execute_result"
    }
   ],
   "source": [
    "array2D[1,1]"
   ]
  },
  {
   "cell_type": "code",
   "execution_count": 23,
   "metadata": {},
   "outputs": [
    {
     "data": {
      "text/plain": [
       "array([[1, 2],\n",
       "       [3, 4],\n",
       "       [5, 6],\n",
       "       [7, 8]])"
      ]
     },
     "execution_count": 23,
     "metadata": {},
     "output_type": "execute_result"
    }
   ],
   "source": [
    "new_array2D = array2D.reshape(4,2)\n",
    "new_array2D"
   ]
  },
  {
   "cell_type": "code",
   "execution_count": 24,
   "metadata": {},
   "outputs": [
    {
     "data": {
      "text/plain": [
       "array([[[1, 2],\n",
       "        [3, 4]],\n",
       "\n",
       "       [[5, 6],\n",
       "        [7, 8]]])"
      ]
     },
     "execution_count": 24,
     "metadata": {},
     "output_type": "execute_result"
    }
   ],
   "source": [
    "new_array3D = array2D.reshape(2,2,2)\n",
    "new_array3D"
   ]
  },
  {
   "cell_type": "code",
   "execution_count": 25,
   "metadata": {},
   "outputs": [
    {
     "name": "stdout",
     "output_type": "stream",
     "text": [
      "9\n",
      "[4 0 1 9 0 1 8]\n",
      "[[9 0 8 6 4]\n",
      " [3 0 4 6 8]\n",
      " [1 8 4 1 3]\n",
      " [6 5 3 9 6]\n",
      " [9 1 9 4 2]]\n",
      "[[[6 7 8 8 9]\n",
      "  [2 0 6 7 8]\n",
      "  [1 7 1 4 0]\n",
      "  [8 5 4 7 8]\n",
      "  [8 2 6 2 8]]\n",
      "\n",
      " [[8 6 6 5 6]\n",
      "  [0 0 6 9 1]\n",
      "  [8 9 1 2 8]\n",
      "  [9 9 5 0 2]\n",
      "  [7 3 0 4 2]]\n",
      "\n",
      " [[0 3 3 1 2]\n",
      "  [5 9 0 1 0]\n",
      "  [1 9 0 9 2]\n",
      "  [1 1 0 0 5]\n",
      "  [9 0 4 6 6]]\n",
      "\n",
      " [[0 2 3 3 2]\n",
      "  [6 0 5 1 3]\n",
      "  [6 5 5 1 8]\n",
      "  [0 5 9 8 5]\n",
      "  [7 8 5 8 9]]\n",
      "\n",
      " [[9 1 5 9 1]\n",
      "  [4 7 7 7 9]\n",
      "  [7 6 0 3 9]\n",
      "  [4 4 6 8 4]\n",
      "  [9 2 1 1 6]]]\n"
     ]
    }
   ],
   "source": [
    "np.random.seed(10)\n",
    "\n",
    "# SCALAR (single value)\n",
    "R1 = np.random.randint(0,10)\n",
    "print(R1)\n",
    "\n",
    "R2 = np.random.randint(0,10,7) # TWO DIMENSIONAL\n",
    "print(R2)\n",
    "\n",
    "R3 = np.random.randint(0,10,[5,5]) # THREE DIMENSIONAL\n",
    "print(R3)\n",
    "\n",
    "R4 = np.random.randint(0,10,[5,5,5]) # FOUR DIMENSIONAL\n",
    "print(R4)"
   ]
  },
  {
   "cell_type": "code",
   "execution_count": 26,
   "metadata": {},
   "outputs": [
    {
     "name": "stdout",
     "output_type": "stream",
     "text": [
      "25 (5, 5) 2 int32\n"
     ]
    }
   ],
   "source": [
    "print(R3.size, R3.shape, R3.ndim, R3.dtype)"
   ]
  },
  {
   "cell_type": "code",
   "execution_count": 27,
   "metadata": {},
   "outputs": [
    {
     "data": {
      "text/plain": [
       "array([[ 0.14110417,  0.27304932, -1.61857075],\n",
       "       [-0.57311336, -1.32044755,  1.23620533],\n",
       "       [ 2.46532508,  1.38323223,  0.34623312]])"
      ]
     },
     "execution_count": 27,
     "metadata": {},
     "output_type": "execute_result"
    }
   ],
   "source": [
    "np.random.randn()\n",
    "np.random.randn(3,3)"
   ]
  },
  {
   "cell_type": "code",
   "execution_count": 28,
   "metadata": {},
   "outputs": [
    {
     "name": "stdout",
     "output_type": "stream",
     "text": [
      "[ 0.10225161  0.01668103  0.16567166  0.06678896 -0.02299466 -0.11295512\n",
      " -0.06399626  0.03138305 -0.1225836  -0.02217931]\n"
     ]
    }
   ],
   "source": [
    "mu, sigma = 0, 0.1\n",
    "s = np.random.normal(mu, sigma, 10)\n",
    "print(s)"
   ]
  },
  {
   "cell_type": "code",
   "execution_count": 31,
   "metadata": {},
   "outputs": [
    {
     "data": {
      "text/plain": [
       "array([0, 1, 2, 3, 4, 5, 6, 7, 8, 9])"
      ]
     },
     "execution_count": 31,
     "metadata": {},
     "output_type": "execute_result"
    }
   ],
   "source": [
    "x = np.arange(10)\n",
    "x"
   ]
  },
  {
   "cell_type": "code",
   "execution_count": 43,
   "metadata": {},
   "outputs": [
    {
     "name": "stdout",
     "output_type": "stream",
     "text": [
      "[0 1]\n",
      "3\n",
      "[4 5 6 7 8 9]\n",
      "[0 2 4 6 8]\n",
      "[0 2 4 6 8]\n",
      "[0 2 4 6 8]\n"
     ]
    }
   ],
   "source": [
    "print(x[0:2]) # slicing\n",
    "print(x[3]) # indexing\n",
    "print(x[4:])\n",
    "print(x[::2])\n",
    "print(x[0:-1:2])\n",
    "print(x[0:10:2]) # start:stop:step(by)"
   ]
  },
  {
   "cell_type": "code",
   "execution_count": 51,
   "metadata": {},
   "outputs": [
    {
     "name": "stdout",
     "output_type": "stream",
     "text": [
      "[0 2 4 6 8]\n",
      "[ 0  5 10 15]\n"
     ]
    }
   ],
   "source": [
    "print(np.arange(5)*2) # even numbers\n",
    "print(np.arange(0,16,5)) # start,stop,step"
   ]
  },
  {
   "cell_type": "code",
   "execution_count": 54,
   "metadata": {},
   "outputs": [
    {
     "name": "stdout",
     "output_type": "stream",
     "text": [
      "[  1.   17.5  34.   50.5  67.   83.5 100. ]\n"
     ]
    }
   ],
   "source": [
    "print(np.linspace(1,100,7)) # evenly spaced points based on start/stop values ## start, stop, # of values"
   ]
  },
  {
   "cell_type": "code",
   "execution_count": 59,
   "metadata": {},
   "outputs": [
    {
     "name": "stdout",
     "output_type": "stream",
     "text": [
      "[[nan nan nan]\n",
      " [nan nan nan]\n",
      " [nan nan nan]\n",
      " [nan nan nan]\n",
      " [nan nan nan]]\n"
     ]
    }
   ],
   "source": [
    "y = np.zeros([5,3])*np.nan\n",
    "print(y)"
   ]
  },
  {
   "cell_type": "code",
   "execution_count": 77,
   "metadata": {},
   "outputs": [
    {
     "data": {
      "text/plain": [
       "(array([36., 37., 38., 39., 40.]), array([-102., -101., -100.,  -99.,  -98.]))"
      ]
     },
     "execution_count": 77,
     "metadata": {},
     "output_type": "execute_result"
    }
   ],
   "source": [
    "# vector component\n",
    "\n",
    "lat = np.linspace(36,40,5)  ## vector\n",
    "long = np.linspace(-102,-98,5)  ## vector\n",
    "lat, long"
   ]
  },
  {
   "cell_type": "code",
   "execution_count": 78,
   "metadata": {},
   "outputs": [
    {
     "data": {
      "text/plain": [
       "(array([[36., 37., 38., 39., 40.],\n",
       "        [36., 37., 38., 39., 40.],\n",
       "        [36., 37., 38., 39., 40.],\n",
       "        [36., 37., 38., 39., 40.],\n",
       "        [36., 37., 38., 39., 40.]]),\n",
       " array([[-102., -102., -102., -102., -102.],\n",
       "        [-101., -101., -101., -101., -101.],\n",
       "        [-100., -100., -100., -100., -100.],\n",
       "        [ -99.,  -99.,  -99.,  -99.,  -99.],\n",
       "        [ -98.,  -98.,  -98.,  -98.,  -98.]]))"
      ]
     },
     "execution_count": 78,
     "metadata": {},
     "output_type": "execute_result"
    }
   ],
   "source": [
    "# MATRIX COMPONENT\n",
    "\n",
    "LAT,LONG = np.meshgrid(lat,long)  ## capitals used for matrices ... lc for scalars/vectors\n",
    "LAT, LONG"
   ]
  },
  {
   "cell_type": "code",
   "execution_count": 80,
   "metadata": {},
   "outputs": [
    {
     "name": "stdout",
     "output_type": "stream",
     "text": [
      "[[11700. 11773. 11848. 11925. 12004.]\n",
      " [11497. 11570. 11645. 11722. 11801.]\n",
      " [11296. 11369. 11444. 11521. 11600.]\n",
      " [11097. 11170. 11245. 11322. 11401.]\n",
      " [10900. 10973. 11048. 11125. 11204.]]\n"
     ]
    },
    {
     "data": {
      "text/plain": [
       "25"
      ]
     },
     "execution_count": 80,
     "metadata": {},
     "output_type": "execute_result"
    }
   ],
   "source": [
    "# Computation of a new variable\n",
    "\n",
    "Z = LAT**2 + LONG**2  # fake elevation ## element-wise computation ... based on matrix position\n",
    "print(Z)\n",
    "Z.size"
   ]
  },
  {
   "cell_type": "code",
   "execution_count": 81,
   "metadata": {},
   "outputs": [
    {
     "data": {
      "text/plain": [
       "array([-0.41614684, -0.65364362,  0.28366219, -0.9899925 , -0.41614684,\n",
       "       -0.9899925 ])"
      ]
     },
     "execution_count": 81,
     "metadata": {},
     "output_type": "execute_result"
    }
   ],
   "source": [
    "np.cos([2,4,5,3,2,3])"
   ]
  },
  {
   "cell_type": "code",
   "execution_count": 83,
   "metadata": {},
   "outputs": [
    {
     "data": {
      "text/plain": [
       "3.141592653589793"
      ]
     },
     "execution_count": 83,
     "metadata": {},
     "output_type": "execute_result"
    }
   ],
   "source": [
    "np.pi"
   ]
  },
  {
   "cell_type": "code",
   "execution_count": 91,
   "metadata": {},
   "outputs": [
    {
     "data": {
      "image/png": "[encoded data removed]",
      "text/plain": [
       "<Figure size 432x288 with 1 Axes>"
      ]
     },
     "metadata": {
      "needs_background": "light"
     },
     "output_type": "display_data"
    }
   ],
   "source": [
    "import matplotlib.pyplot as plt\n",
    "%matplotlib inline\n",
    "\n",
    "x = np.linspace(0,2*np.pi,50)\n",
    "y = np.sin(x)\n",
    "\n",
    "plt.plot(x,y,'-g')\n",
    "plt.xlabel('Days')\n",
    "plt.ylabel('Temperature')\n",
    "plt.show()"
   ]
  },
  {
   "cell_type": "code",
   "execution_count": 96,
   "metadata": {},
   "outputs": [
    {
     "data": {
      "text/plain": [
       "array([-0.14836497,  0.22111503, -0.40354373,  0.10810814, -0.28845978,\n",
       "       -0.32177007, -0.20131371, -0.05150672,  0.14610149, -0.3396803 ,\n",
       "        0.33481511,  0.23274474, -0.02651472, -0.05804916, -0.19070648,\n",
       "        0.11760812,  0.01376029,  0.28241286, -0.13724312,  0.10958879,\n",
       "       -0.00727651, -0.16940325,  0.38046081,  0.05592108,  0.1240509 ,\n",
       "       -0.21371354, -0.14452415,  0.01682791, -0.11689103,  0.12040445,\n",
       "        0.08767305, -0.15646864,  0.0385872 ,  0.00080498, -0.03281506,\n",
       "       -0.22976245, -0.1671017 ,  0.04209015,  0.20279693, -0.19403956,\n",
       "        0.24343631,  0.03652948, -0.25396392,  0.06467799,  0.17715497,\n",
       "        0.05287894,  0.46382546,  0.06173353,  0.17851281,  0.00220454])"
      ]
     },
     "execution_count": 96,
     "metadata": {},
     "output_type": "execute_result"
    }
   ],
   "source": [
    "noise = np.random.normal(0, 0.2, x.size)\n",
    "noise"
   ]
  },
  {
   "cell_type": "code",
   "execution_count": 99,
   "metadata": {},
   "outputs": [
    {
     "data": {
      "image/png": "[encoded data removed]",
      "text/plain": [
       "<Figure size 432x288 with 1 Axes>"
      ]
     },
     "metadata": {
      "needs_background": "light"
     },
     "output_type": "display_data"
    }
   ],
   "source": [
    "ynoisy = y + noise\n",
    "\n",
    "plt.plot(x, y-ynoisy, '-k')\n",
    "plt.show()"
   ]
  },
  {
   "cell_type": "code",
   "execution_count": 102,
   "metadata": {},
   "outputs": [
    {
     "data": {
      "text/plain": [
       "[<matplotlib.lines.Line2D at 0x1ea908593c8>]"
      ]
     },
     "execution_count": 102,
     "metadata": {},
     "output_type": "execute_result"
    },
    {
     "data": {
      "image/png": "[encoded data removed]",
      "text/plain": [
       "<Figure size 432x288 with 1 Axes>"
      ]
     },
     "metadata": {
      "needs_background": "light"
     },
     "output_type": "display_data"
    }
   ],
   "source": [
    "plt.plot(x,y,'-r')\n",
    "plt.plot(x,ynoisy,'-b')"
   ]
  },
  {
   "cell_type": "code",
   "execution_count": 105,
   "metadata": {},
   "outputs": [
    {
     "data": {
      "text/plain": [
       "array([[5, 0, 3, 3, 7],\n",
       "       [9, 3, 5, 2, 4],\n",
       "       [7, 6, 8, 8, 1],\n",
       "       [6, 7, 7, 8, 1],\n",
       "       [5, 9, 8, 9, 4]])"
      ]
     },
     "execution_count": 105,
     "metadata": {},
     "output_type": "execute_result"
    }
   ],
   "source": [
    "# CHALLENGE : finding commands to access a specific part of a two-dimensional array....\n",
    "\n",
    "np.random.seed(0)\n",
    "M = np.random.randint(0,10,[5,5])\n",
    "M"
   ]
  },
  {
   "cell_type": "code",
   "execution_count": 130,
   "metadata": {},
   "outputs": [
    {
     "name": "stdout",
     "output_type": "stream",
     "text": [
      "[5 0 3 3 7]\n",
      "[5 0 3 3 7]\n",
      "[5 9 8 9 4]\n",
      "[5 9 8 9 4]\n",
      "[7 4 1 1 4]\n",
      "[5 9 7 6 5]\n",
      "[[3 3 7]\n",
      " [5 2 4]\n",
      " [8 8 1]]\n"
     ]
    }
   ],
   "source": [
    "# RETRIEVE ...\n",
    "\n",
    "# Top Row\n",
    "print(M[0])\n",
    "print(M[0,:]) # preferred .... first row, all columns\n",
    "\n",
    "# Bottom Row\n",
    "print(M[-1])\n",
    "print(M[-1,:]) # preferred\n",
    "\n",
    "# Right-most column\n",
    "print(M[:,-1]) # .... all rows, last column\n",
    "\n",
    "# Left-most column\n",
    "print(M[:, 0])\n",
    "\n",
    "# Upper-right 3x3 matrix\n",
    "print(M[0:3, -3:])"
   ]
  },
  {
   "cell_type": "code",
   "execution_count": null,
   "metadata": {},
   "outputs": [],
   "source": []
  }
 ],
 "metadata": {
  "kernelspec": {
   "display_name": "Python 3",
   "language": "python",
   "name": "python3"
  },
  "language_info": {
   "codemirror_mode": {
    "name": "ipython",
    "version": 3
   },
   "file_extension": ".py",
   "mimetype": "text/x-python",
   "name": "python",
   "nbconvert_exporter": "python",
   "pygments_lexer": "ipython3",
   "version": "3.7.1"
  }
 },
 "nbformat": 4,
 "nbformat_minor": 2
}
