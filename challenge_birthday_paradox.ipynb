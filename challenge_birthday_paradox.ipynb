{
 "cells": [
  {
   "cell_type": "markdown",
   "metadata": {},
   "source": [
    "## Birthday Paradox Challenge"
   ]
  },
  {
   "cell_type": "markdown",
   "metadata": {},
   "source": [
    "#### For calculating/proving the probability of shared birthdays within a group of 23 people.\n",
    "\n",
    "#### Inputs: \n",
    "> ##### Number of Trials (N) for code to loop through\n",
    "> ##### Number of Repetitions (R) to be completed per trial\n",
    "\n",
    "#### Outputs:\n",
    "> ##### List of calculated probabilites based on number of trials/repetitions desired by user\n",
    "> ##### Equation for calculation: $ P(x) = \\frac{N_{x}}{N_{T}}$\n",
    ">> ##### $N_{x}$ : Repetitions with matching birthdays\n",
    ">> ##### $N_{T}$ : Total number of repetitions\n",
    "\n",
    "##### Author: Rachel Veenstra\n",
    "##### Date: 04-01-2019"
   ]
  },
  {
   "cell_type": "code",
   "execution_count": null,
   "metadata": {},
   "outputs": [],
   "source": [
    "# Importing necessary modules\n",
    "import random\n",
    "import numpy as np"
   ]
  },
  {
   "cell_type": "code",
   "execution_count": 169,
   "metadata": {},
   "outputs": [
    {
     "name": "stdout",
     "output_type": "stream",
     "text": [
      "[0.534, 0.489, 0.499, 0.513, 0.533, 0.508, 0.507, 0.504, 0.517, 0.487, 0.492]\n"
     ]
    }
   ],
   "source": [
    "# Variables that can be manipulated by user\n",
    "N = 10   # number of trials for code to run\n",
    "R = 1000   # number of repetitions for code to run per trial\n",
    "\n",
    "\n",
    "# Creating a list to track probability of each trial\n",
    "probability = []\n",
    "\n",
    "# Creating variable to track loops\n",
    "trials = 0   # number of trials run\n",
    "\n",
    "# Creating conditional to loop trials based on user inputs\n",
    "while trials <= N:\n",
    "    \n",
    "    # Creating/clearing unique values for each loop\n",
    "    favorable = 0    # number of favorable outcomes per trial\n",
    "    reps = 0   # number of repetitions run within trial\n",
    "    \n",
    "    # Creating conditional to run repetitions based on user inputs\n",
    "    while reps < R:  \n",
    "        \n",
    "        birthdays = []   # creating empty list to fill with birthdays\n",
    "        \n",
    "        for i in range(0, 23):   # creating scenario with 23 variables\n",
    "            birthdays.append(random.randrange(1, 366))   # adding random number to birthday list (from 1-365)\n",
    "        \n",
    "        if len(birthdays) > len(set(birthdays)):   # comparing total number of birthdays with the number of unique birthdays\n",
    "            favorable = favorable + 1   # if condition is met (unique list is shorter), adding a favorable outcome\n",
    "        \n",
    "        reps = reps + 1   # adding a completed repetition\n",
    "    \n",
    "    # Adding probability from trial to list of probability values\n",
    "    probability.append(favorable/reps)   \n",
    "    \n",
    "    # Adding a completed trial loop\n",
    "    trials = trials + 1  \n",
    "    \n",
    "# Displaying results to user in form of a list (the probability of R repetitions for N trials)\n",
    "print(probability) "
   ]
  }
 ],
 "metadata": {
  "kernelspec": {
   "display_name": "Python 3",
   "language": "python",
   "name": "python3"
  },
  "language_info": {
   "codemirror_mode": {
    "name": "ipython",
    "version": 3
   },
   "file_extension": ".py",
   "mimetype": "text/x-python",
   "name": "python",
   "nbconvert_exporter": "python",
   "pygments_lexer": "ipython3",
   "version": "3.7.1"
  }
 },
 "nbformat": 4,
 "nbformat_minor": 2
}
