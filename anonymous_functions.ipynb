{
 "cells": [
  {
   "cell_type": "markdown",
   "metadata": {},
   "source": [
    "$\\frac{5}{9}(F-32)$"
   ]
  },
  {
   "cell_type": "code",
   "execution_count": null,
   "metadata": {},
   "outputs": [],
   "source": [
    "## For above .. $\\frac{5}{9}(F-32)$"
   ]
  },
  {
   "cell_type": "code",
   "execution_count": 5,
   "metadata": {},
   "outputs": [
    {
     "data": {
      "text/plain": [
       "100.0"
      ]
     },
     "execution_count": 5,
     "metadata": {},
     "output_type": "execute_result"
    }
   ],
   "source": [
    "F_to_C = lambda F: (F-32)*5/9 ##reserved name for anonymouns functions in python\n",
    "\n",
    "F_to_C(212)"
   ]
  },
  {
   "cell_type": "code",
   "execution_count": 11,
   "metadata": {},
   "outputs": [],
   "source": [
    "def C_to_F(C):\n",
    "    print((9/5)*C + 32)"
   ]
  },
  {
   "cell_type": "code",
   "execution_count": 13,
   "metadata": {},
   "outputs": [
    {
     "name": "stdout",
     "output_type": "stream",
     "text": [
      "212.0\n"
     ]
    }
   ],
   "source": [
    "C_to_F(100)"
   ]
  },
  {
   "cell_type": "code",
   "execution_count": 17,
   "metadata": {},
   "outputs": [
    {
     "data": {
      "text/plain": [
       "3.165946398560656"
      ]
     },
     "execution_count": 17,
     "metadata": {},
     "output_type": "execute_result"
    }
   ],
   "source": [
    "## Saturation vapor pressure\n",
    "import math\n",
    "\n",
    "x = lambda T: (0.611) * math.exp((17.502*T)/(T+240.97))\n",
    "x(25)"
   ]
  },
  {
   "cell_type": "code",
   "execution_count": 23,
   "metadata": {},
   "outputs": [
    {
     "data": {
      "text/plain": [
       "57"
      ]
     },
     "execution_count": 23,
     "metadata": {},
     "output_type": "execute_result"
    }
   ],
   "source": [
    "poly_f = lambda b1,b2,b3,x: b1 + b2*x + b3*(x**2)\n",
    "poly_f(1,2,3,4)"
   ]
  },
  {
   "cell_type": "code",
   "execution_count": 25,
   "metadata": {},
   "outputs": [
    {
     "data": {
      "text/plain": [
       "57"
      ]
     },
     "execution_count": 25,
     "metadata": {},
     "output_type": "execute_result"
    }
   ],
   "source": [
    "poly_2 = lambda b,x: b[0] + b[1]*x + b[2]*(x**2)\n",
    "poly_2([1,2,3],4)"
   ]
  },
  {
   "cell_type": "code",
   "execution_count": 22,
   "metadata": {},
   "outputs": [
    {
     "name": "stdout",
     "output_type": "stream",
     "text": [
      "1\n",
      "6\n",
      "17\n",
      "34\n",
      "57\n",
      "86\n",
      "121\n",
      "162\n",
      "209\n",
      "262\n",
      "321\n",
      "386\n",
      "457\n",
      "534\n",
      "617\n",
      "706\n",
      "801\n",
      "902\n",
      "1009\n",
      "1122\n",
      "1241\n",
      "1366\n",
      "1497\n",
      "1634\n",
      "1777\n",
      "1926\n",
      "2081\n",
      "2242\n",
      "2409\n",
      "2582\n",
      "2761\n",
      "2946\n",
      "3137\n",
      "3334\n",
      "3537\n",
      "3746\n",
      "3961\n",
      "4182\n",
      "4409\n",
      "4642\n",
      "4881\n",
      "5126\n",
      "5377\n",
      "5634\n",
      "5897\n",
      "6166\n",
      "6441\n",
      "6722\n",
      "7009\n",
      "7302\n",
      "7601\n",
      "7906\n",
      "8217\n",
      "8534\n",
      "8857\n",
      "9186\n",
      "9521\n",
      "9862\n",
      "10209\n",
      "10562\n",
      "10921\n",
      "11286\n",
      "11657\n",
      "12034\n",
      "12417\n",
      "12806\n",
      "13201\n",
      "13602\n",
      "14009\n",
      "14422\n",
      "14841\n",
      "15266\n",
      "15697\n",
      "16134\n",
      "16577\n",
      "17026\n",
      "17481\n",
      "17942\n",
      "18409\n",
      "18882\n",
      "19361\n",
      "19846\n",
      "20337\n",
      "20834\n",
      "21337\n",
      "21846\n",
      "22361\n",
      "22882\n",
      "23409\n",
      "23942\n",
      "24481\n",
      "25026\n",
      "25577\n",
      "26134\n",
      "26697\n",
      "27266\n",
      "27841\n",
      "28422\n",
      "29009\n",
      "29602\n"
     ]
    }
   ],
   "source": [
    "for i in range(0,100):\n",
    "    print(poly_f(1,2,3,i))"
   ]
  }
 ],
 "metadata": {
  "kernelspec": {
   "display_name": "Python 3",
   "language": "python",
   "name": "python3"
  },
  "language_info": {
   "codemirror_mode": {
    "name": "ipython",
    "version": 3
   },
   "file_extension": ".py",
   "mimetype": "text/x-python",
   "name": "python",
   "nbconvert_exporter": "python",
   "pygments_lexer": "ipython3",
   "version": "3.7.1"
  }
 },
 "nbformat": 4,
 "nbformat_minor": 2
}
