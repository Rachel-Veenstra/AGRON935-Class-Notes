{
 "cells": [
  {
   "cell_type": "markdown",
   "metadata": {},
   "source": [
    "# Comments for first project report\n",
    "\n",
    "19-March-2019\n",
    "\n",
    "**Instructions**: Please provide meaningful and constructive feedback to each presenter. Feel free to suggest Python modules, blogs, or books that might be helpful. Presentations must not exceed 3 minutes and must clearly cover: 1) motivation for the project, 2) current state of the project and roadblocks, 3) future steps. **Feedback will be anonymous to the presenter**.\n",
    "\n",
    "**Upload** the notebook with your comments to Canvas at the end of the class. Please rename and save the notebook with your name and last name (e.g. `andrespatrignani_feedback_1.ipynb`)."
   ]
  },
  {
   "cell_type": "markdown",
   "metadata": {},
   "source": [
    "## Brett Plemons\n",
    "\n",
    "Could original tabular PDF's be requested?\n",
    "    \n",
    "Good idea, very useful. \n",
    "I am not very knowledgable in image analysis, so I don't have much constructive feedback!"
   ]
  },
  {
   "cell_type": "markdown",
   "metadata": {},
   "source": [
    "## Elliott Carver\n",
    "\n",
    "Inserting NaN's for missing values to null them in final average calculation?"
   ]
  },
  {
   "cell_type": "markdown",
   "metadata": {},
   "source": [
    "## John Coffin\n",
    "\n",
    "Perhaps consider scaling down the ultimate goal of your project?\n",
    "\n",
    "Documentation of how to utilize functions would be beneficial to future users!\n",
    "\n"
   ]
  },
  {
   "cell_type": "markdown",
   "metadata": {},
   "source": [
    "## Adrian Correndo\n",
    "\n",
    "Highly recommend pandas groupby function to faciliate creation of subsets in your dataframe.\n"
   ]
  },
  {
   "cell_type": "markdown",
   "metadata": {},
   "source": [
    "## Byron Evers\n",
    "\n",
    "Perhaps you could try using the \".csv\" method of mass-importing (as shown in lecture notebooks)\n",
    "...and merging datasets together in pandas with the .merge function? (all files would have to be in a single community folder to mass-import in this way)\n"
   ]
  },
  {
   "cell_type": "markdown",
   "metadata": {},
   "source": [
    "## Javier Fernandez\n",
    "\n",
    "Perhaps you could try taking averages to use for missing temperatures ... i.e. average between two values to replace missing one?\n",
    "However, using the closest station would be a more accurate way to replace these values. (very good idea!)\n"
   ]
  },
  {
   "cell_type": "markdown",
   "metadata": {},
   "source": [
    "## Katharine Gehl\n",
    "\n",
    "There are several simple sort functions to easily organize pandas dataframes. I'm sure a quick search online would be very helpful!\n",
    "\n",
    "Also, maybe you could use an \"if\" statement to replace low/negative final values with a slope of 0?\n"
   ]
  },
  {
   "cell_type": "markdown",
   "metadata": {},
   "source": [
    "## Nathan Hein\n",
    "\n",
    "Maybe you could try the pandas \".merge\" function (in your case, on = \"Hour\") to put multiple dataframes together based on the value in one of the columns.\n"
   ]
  },
  {
   "cell_type": "markdown",
   "metadata": {},
   "source": [
    "## Ruben Lerma-Reyes\n",
    "\n",
    "(not present)\n"
   ]
  },
  {
   "cell_type": "markdown",
   "metadata": {},
   "source": [
    "## Luiz Moro Rosso\n",
    "\n",
    "I was impressed with the way you were saving everything as a URL to put all together later.\n",
    "Great work!\n"
   ]
  },
  {
   "cell_type": "markdown",
   "metadata": {},
   "source": [
    "## Parchuri Prasad\n",
    "\n",
    "\n",
    "Agreed with Andres' suggestion to write out problems on paper to solve. This was helpful to me during the troubleshooting portions of my project. Trying code over and over again can be time consuming and frustrating!\n",
    "\n"
   ]
  },
  {
   "cell_type": "markdown",
   "metadata": {},
   "source": [
    "## Pedro Rossini\n",
    "\n",
    "How could the initial parameters be improved?\n",
    "\n",
    "Documentation of how you are defining surface vs subsurface?\n",
    "    \n",
    "Could other factors be used to improve prediction accuracy?\n",
    "\n"
   ]
  },
  {
   "cell_type": "markdown",
   "metadata": {},
   "source": [
    "## Rachel Veenstra\n",
    "\n",
    "(presenter)\n"
   ]
  },
  {
   "cell_type": "markdown",
   "metadata": {},
   "source": [
    "## Bre Waterman\n",
    "\n",
    "Would it be possible to simply call certain rows of the text file instead of trying to drop the top rows?\n",
    "\n"
   ]
  },
  {
   "cell_type": "markdown",
   "metadata": {},
   "source": [
    "## Ruth Welti\n",
    "\n",
    "Perhaps you could try using pandas to organize your dataframe? I think that would help clean it up a bit.\n",
    "\n",
    "In your final code, I would also suggest hiding the results from the big operation to make scrolling easier.\n",
    "\n"
   ]
  },
  {
   "cell_type": "markdown",
   "metadata": {},
   "source": [
    "## Elizabeth Wilson\n",
    "\n",
    "Maybe you could check online for tutorials for matplotlib venn diagrams - I was able to do a lot of troubleshooting this way.\n",
    "\n"
   ]
  }
 ],
 "metadata": {
  "kernelspec": {
   "display_name": "Python 3",
   "language": "python",
   "name": "python3"
  },
  "language_info": {
   "codemirror_mode": {
    "name": "ipython",
    "version": 3
   },
   "file_extension": ".py",
   "mimetype": "text/x-python",
   "name": "python",
   "nbconvert_exporter": "python",
   "pygments_lexer": "ipython3",
   "version": "3.7.1"
  }
 },
 "nbformat": 4,
 "nbformat_minor": 2
}
