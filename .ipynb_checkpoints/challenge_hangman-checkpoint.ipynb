{
 "cells": [
  {
   "cell_type": "markdown",
   "metadata": {},
   "source": [
    "# Hangman Challenge\n",
    "#### Rachel Veenstra\n",
    "#### March 28, 2019"
   ]
  },
  {
   "cell_type": "code",
   "execution_count": 1,
   "metadata": {},
   "outputs": [
    {
     "name": "stdin",
     "output_type": "stream",
     "text": [
      "P1 - Provide a word for Player 2: rachel\n",
      "P2 - Guess a letter: R\n"
     ]
    },
    {
     "name": "stdout",
     "output_type": "stream",
     "text": [
      "R _ _ _ _ _\n"
     ]
    },
    {
     "name": "stdin",
     "output_type": "stream",
     "text": [
      "P2 - Guess a letter: a\n"
     ]
    },
    {
     "name": "stdout",
     "output_type": "stream",
     "text": [
      "R A _ _ _ _\n"
     ]
    },
    {
     "name": "stdin",
     "output_type": "stream",
     "text": [
      "P2 - Guess a letter: g\n"
     ]
    },
    {
     "name": "stdout",
     "output_type": "stream",
     "text": [
      "R A _ _ _ _\n"
     ]
    },
    {
     "name": "stdin",
     "output_type": "stream",
     "text": [
      "P2 - Guess a letter: y\n"
     ]
    },
    {
     "name": "stdout",
     "output_type": "stream",
     "text": [
      "R A _ _ _ _\n"
     ]
    },
    {
     "name": "stdin",
     "output_type": "stream",
     "text": [
      "P2 - Guess a letter: w\n"
     ]
    },
    {
     "name": "stdout",
     "output_type": "stream",
     "text": [
      "R A _ _ _ _\n"
     ]
    },
    {
     "name": "stdin",
     "output_type": "stream",
     "text": [
      "P2 - Guess a letter: b\n"
     ]
    },
    {
     "name": "stdout",
     "output_type": "stream",
     "text": [
      "R A _ _ _ _\n",
      "GAME OVER\n"
     ]
    }
   ],
   "source": [
    "# Asking Player 1 for initial word\n",
    "secret = input(\"P1 - Provide a word for Player 2:\").upper() \n",
    "\n",
    "# Changing word to a list of characters\n",
    "secret = list(secret)\n",
    "\n",
    "# Creating correct list with same number of spaces as letters in 'secret'\n",
    "correct = ['_'] * len(secret)\n",
    "\n",
    "# Creating an incorrect list to append with characters not found in 'secret'\n",
    "incorrect = []\n",
    "\n",
    "# defining while loop to continue game through multiple guesses, with a max of four incorrect guesses, and until correct guesses = secret\n",
    "while len(set(incorrect)) < 4 and correct != secret: \n",
    "     \n",
    "    # prompting Player 2 to guess a character    \n",
    "    guess = input('P2 - Guess a letter:').upper()\n",
    "            \n",
    "    # checking secret word for presence of guessed character\n",
    "    for i in range(len(secret)):\n",
    "        \n",
    "        # if the guess is found, replace the value in the correct list\n",
    "        if guess in secret:\n",
    "                \n",
    "            if secret[i] == guess:\n",
    "                correct[i] = guess\n",
    "                \n",
    "        else:\n",
    "            incorrect.append(guess)\n",
    "            \n",
    "    # displaying correct guess and joining together for aesthetics :)   \n",
    "    print(' '.join(correct))\n",
    "    \n",
    "print('GAME OVER')"
   ]
  }
 ],
 "metadata": {
  "kernelspec": {
   "display_name": "Python 3",
   "language": "python",
   "name": "python3"
  },
  "language_info": {
   "codemirror_mode": {
    "name": "ipython",
    "version": 3
   },
   "file_extension": ".py",
   "mimetype": "text/x-python",
   "name": "python",
   "nbconvert_exporter": "python",
   "pygments_lexer": "ipython3",
   "version": "3.7.1"
  }
 },
 "nbformat": 4,
 "nbformat_minor": 2
}
