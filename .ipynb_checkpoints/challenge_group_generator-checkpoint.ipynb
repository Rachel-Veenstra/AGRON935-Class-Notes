{
 "cells": [
  {
   "cell_type": "markdown",
   "metadata": {},
   "source": [
    "## Challenge: Random Group Generator\n",
    "#### Rachel Veenstra\n",
    "##### AGRON935"
   ]
  },
  {
   "cell_type": "code",
   "execution_count": 58,
   "metadata": {},
   "outputs": [
    {
     "name": "stdout",
     "output_type": "stream",
     "text": [
      "How many groups would you like to have?\n"
     ]
    },
    {
     "name": "stdin",
     "output_type": "stream",
     "text": [
      " 3\n"
     ]
    },
    {
     "name": "stdout",
     "output_type": "stream",
     "text": [
      "How many members would you like to have in each group?\n"
     ]
    },
    {
     "name": "stdin",
     "output_type": "stream",
     "text": [
      " 6\n"
     ]
    },
    {
     "name": "stdout",
     "output_type": "stream",
     "text": [
      "Your groups are as follows:\n",
      "[['Albert Einstein,', 'Richard Phillips Feynman', 'Antoine Henri Becquerel,', 'Max Planck,', 'Peter Higgs,', 'Hideki Yukawa,'], ['Marie Curie,', 'Enrico Fermi,', 'Erwin SchrÃ¶dinger,', 'Lord Rayleigh,', 'Gustav Hertz,', 'Ernest Lawrence,'], ['Paul Dirac,', 'Guglielmo Marconi,', 'Werner Heisenberg,', 'Hendrik Lorentz,', 'Wilhelm Conrad RÃ¶ntgen,', 'Niels Bohr,']]\n"
     ]
    }
   ],
   "source": [
    "import glob    \n",
    "import pandas as pd\n",
    "import random\n",
    "\n",
    "data_file = '/Users/rveenstra/Desktop/Coding/introcoding-spring-2019/Datasets'\n",
    "glob.os.chdir(data_file)     \n",
    "\n",
    "names_list = [line.strip('\\n') for line in open('nobel_physics.txt')]     \n",
    "print(\"How many groups would you like to have?\")\n",
    "\n",
    "N = int(input())\n",
    "if N <= 0 | N < 0:\n",
    "    print(\"Error: Cannot generate \" + str(N) + \" groups. Please try again.\")\n",
    "elif N > len(names_list):\n",
    "    print(\"Error: Cannot generate \" + str(N) + \" groups from \" + str(len(names_list)) + \"names.\")\n",
    "    print(\"Please try again with a different group number.\")\n",
    "else:\n",
    "    print(\"How many members would you like to have in each group?\")\n",
    "    K = int(input())\n",
    "    if N * K > len(names_list):\n",
    "        print(\"Error: \" + str(N) + \" x \" + str(K) + \" exceeds the maximum number of \" + str(len(names_list)) + \" people.\")\n",
    "    else:\n",
    "        def groups(names_list, K):     \n",
    "            for i in range(0, N*K, K):\n",
    "                yield names_list[i:i + K]\n",
    "        random.shuffle(names_list)     \n",
    "        print(\"Your groups are as follows:\")\n",
    "        print(list(groups(names_list, K)))"
   ]
  },
  {
   "cell_type": "code",
   "execution_count": null,
   "metadata": {},
   "outputs": [],
   "source": []
  }
 ],
 "metadata": {
  "kernelspec": {
   "display_name": "Python 3",
   "language": "python",
   "name": "python3"
  },
  "language_info": {
   "codemirror_mode": {
    "name": "ipython",
    "version": 3
   },
   "file_extension": ".py",
   "mimetype": "text/x-python",
   "name": "python",
   "nbconvert_exporter": "python",
   "pygments_lexer": "ipython3",
   "version": "3.7.1"
  }
 },
 "nbformat": 4,
 "nbformat_minor": 2
}
