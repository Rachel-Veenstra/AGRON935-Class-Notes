{
 "cells": [
  {
   "cell_type": "code",
   "execution_count": 13,
   "metadata": {},
   "outputs": [],
   "source": [
    "#Creating word for P1\n",
    "\n",
    "#input('Player 1: Provide word for P2')\n",
    "\n",
    "#input = word\n",
    "word = 'Rachel'\n",
    "\n",
    "word_list = list(str(word))"
   ]
  },
  {
   "cell_type": "code",
   "execution_count": 14,
   "metadata": {},
   "outputs": [
    {
     "data": {
      "text/plain": [
       "['_', '_', '_', '_', '_', '_']"
      ]
     },
     "execution_count": 14,
     "metadata": {},
     "output_type": "execute_result"
    }
   ],
   "source": [
    "# Creating list\n",
    "correct = []\n",
    "incorrect = []\n",
    "\n",
    "for i in range(len(word_list)):\n",
    "    correct.append('_')\n",
    "    \n",
    "correct"
   ]
  },
  {
   "cell_type": "code",
   "execution_count": null,
   "metadata": {},
   "outputs": [],
   "source": [
    "while len(set(incorrect)) < 5:\n",
    "    input(\"Player 1: Guess a letter!\")\n",
    "    for i in range(len(word_list)):\n",
    "        if word_list[i] == input:\n",
    "            correct.replace(input)\n",
    "        else:\n",
    "            incorrect.append(input)\n",
    "guess"
   ]
  },
  {
   "cell_type": "code",
   "execution_count": 21,
   "metadata": {},
   "outputs": [
    {
     "data": {
      "text/plain": [
       "['R', '_', '_', '_', '_', '_', 'R', '_', '_', '_', '_', '_']"
      ]
     },
     "execution_count": 21,
     "metadata": {},
     "output_type": "execute_result"
    }
   ],
   "source": [
    "guess = 'R'\n",
    "for i in range(len(word_list)):\n",
    "    if word_list[i] == guess:\n",
    "        word_blank.append(guess)\n",
    "        correct.append(guess)\n",
    "    else:\n",
    "        word_blank.append('_')\n",
    "        incorrect.append(guess)\n",
    "        \n",
    "word_blank"
   ]
  },
  {
   "cell_type": "code",
   "execution_count": null,
   "metadata": {},
   "outputs": [],
   "source": [
    "correct"
   ]
  },
  {
   "cell_type": "code",
   "execution_count": 8,
   "metadata": {},
   "outputs": [
    {
     "data": {
      "text/plain": [
       "<bound method Kernel.raw_input of <ipykernel.ipkernel.IPythonKernel object at 0x00000276DC2CEEB8>>"
      ]
     },
     "execution_count": 8,
     "metadata": {},
     "output_type": "execute_result"
    }
   ],
   "source": [
    "g"
   ]
  }
 ],
 "metadata": {
  "kernelspec": {
   "display_name": "Python 3",
   "language": "python",
   "name": "python3"
  },
  "language_info": {
   "codemirror_mode": {
    "name": "ipython",
    "version": 3
   },
   "file_extension": ".py",
   "mimetype": "text/x-python",
   "name": "python",
   "nbconvert_exporter": "python",
   "pygments_lexer": "ipython3",
   "version": "3.7.1"
  }
 },
 "nbformat": 4,
 "nbformat_minor": 2
}
