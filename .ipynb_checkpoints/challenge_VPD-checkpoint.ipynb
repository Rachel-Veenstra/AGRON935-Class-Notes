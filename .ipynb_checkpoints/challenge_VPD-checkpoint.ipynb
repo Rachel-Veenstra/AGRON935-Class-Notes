{
 "cells": [
  {
   "cell_type": "markdown",
   "metadata": {},
   "source": [
    "# Challenge: Vapor Pressure Deficit"
   ]
  },
  {
   "cell_type": "markdown",
   "metadata": {},
   "source": [
    "#### Rachel Veenstra"
   ]
  },
  {
   "cell_type": "code",
   "execution_count": 12,
   "metadata": {},
   "outputs": [],
   "source": [
    "# Importing modules\n",
    "\n",
    "import numpy as np"
   ]
  },
  {
   "cell_type": "code",
   "execution_count": 13,
   "metadata": {},
   "outputs": [],
   "source": [
    "# Defining new function\n",
    "\n",
    "def vpdfun(T, R):\n",
    "    \"\"\"\n",
    "    Calculates vapor pressure deficit. \n",
    "    \n",
    "    Inputs:\n",
    "            (Temperature, Relative Humidity)\n",
    "            Temperature must be in degrees Celsius.\n",
    "            Relative Humidity must be a percentage.\n",
    "            \n",
    "            Can be passed as individual numbers, or an assigned variable (such as an array).\n",
    "          \n",
    "    Author: Rachel Veenstra\n",
    "    Date: 04-Mar-2019\n",
    "    \"\"\"\n",
    "    # Calculating saturated vapor pressure\n",
    "    SVP = 0.611 * np.exp((17.5*T)/(T+241))\n",
    "    \n",
    "    # Calculating actual vapor pressure\n",
    "    AVP = SVP*(R/100)\n",
    "    \n",
    "    # Calculating final vapor pressure deficit\n",
    "    Final = (SVP - AVP).round(2)\n",
    "    \n",
    "    return Final"
   ]
  },
  {
   "cell_type": "code",
   "execution_count": 14,
   "metadata": {},
   "outputs": [],
   "source": [
    "# Creating example input variables \n",
    "\n",
    "# 5x5 arrays of linear values in the desired ranges\n",
    "\n",
    "temp_grid = np.linspace(0,40,25).reshape(5,5) \n",
    "\n",
    "RH_grid = np.linspace(0,100,25).reshape(5,5)"
   ]
  },
  {
   "cell_type": "code",
   "execution_count": 15,
   "metadata": {},
   "outputs": [
    {
     "name": "stdout",
     "output_type": "stream",
     "text": [
      "[[0.61 0.66 0.71 0.76 0.82]\n",
      " [0.87 0.92 0.97 1.02 1.06]\n",
      " [1.11 1.14 1.17 1.19 1.19]\n",
      " [1.19 1.16 1.12 1.06 0.97]\n",
      " [0.85 0.7  0.51 0.28 0.  ]]\n"
     ]
    }
   ],
   "source": [
    "# Calling function and storing output as \"VPD\" variable\n",
    "\n",
    "VPD = vpdfun(temp_grid, RH_grid)\n",
    "\n",
    "print(VPD)"
   ]
  }
 ],
 "metadata": {
  "kernelspec": {
   "display_name": "Python 3",
   "language": "python",
   "name": "python3"
  },
  "language_info": {
   "codemirror_mode": {
    "name": "ipython",
    "version": 3
   },
   "file_extension": ".py",
   "mimetype": "text/x-python",
   "name": "python",
   "nbconvert_exporter": "python",
   "pygments_lexer": "ipython3",
   "version": "3.7.1"
  }
 },
 "nbformat": 4,
 "nbformat_minor": 2
}
