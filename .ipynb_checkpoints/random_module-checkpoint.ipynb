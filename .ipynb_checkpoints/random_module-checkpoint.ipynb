{
 "cells": [
  {
   "cell_type": "code",
   "execution_count": 2,
   "metadata": {},
   "outputs": [],
   "source": [
    "import random"
   ]
  },
  {
   "cell_type": "code",
   "execution_count": 9,
   "metadata": {},
   "outputs": [
    {
     "name": "stdout",
     "output_type": "stream",
     "text": [
      "0.7417869892607294\n",
      "0.6229016948897019\n"
     ]
    }
   ],
   "source": [
    "# get a single random number between 0 and 1\n",
    "## from uniform distribution\n",
    "\n",
    "print(random.random())\n",
    "\n",
    "random.seed(5)\n",
    "print(random.random())\n"
   ]
  },
  {
   "cell_type": "code",
   "execution_count": 14,
   "metadata": {},
   "outputs": [
    {
     "name": "stdout",
     "output_type": "stream",
     "text": [
      "92.2324996665417\n"
     ]
    }
   ],
   "source": [
    "## a single random float between 0-100\n",
    "\n",
    "print(random.random()*100)"
   ]
  },
  {
   "cell_type": "code",
   "execution_count": 16,
   "metadata": {},
   "outputs": [
    {
     "name": "stdout",
     "output_type": "stream",
     "text": [
      "46.56226543781054\n"
     ]
    }
   ],
   "source": [
    "print(random.random()*100)"
   ]
  },
  {
   "cell_type": "code",
   "execution_count": 19,
   "metadata": {},
   "outputs": [
    {
     "name": "stdout",
     "output_type": "stream",
     "text": [
      "33\n",
      "70\n"
     ]
    }
   ],
   "source": [
    "## random number between 20-250 (start,stop,step)\n",
    "\n",
    "print(random.randrange(20,250))\n",
    "print(random.randrange(20,250,10))"
   ]
  },
  {
   "cell_type": "code",
   "execution_count": 23,
   "metadata": {},
   "outputs": [
    {
     "name": "stdout",
     "output_type": "stream",
     "text": [
      "6\n"
     ]
    }
   ],
   "source": [
    "## Integers\n",
    "\n",
    "print(random.randint(3,8))"
   ]
  },
  {
   "cell_type": "code",
   "execution_count": 25,
   "metadata": {},
   "outputs": [
    {
     "name": "stdout",
     "output_type": "stream",
     "text": [
      "6.1422737511342955\n"
     ]
    }
   ],
   "source": [
    "## if desired number in a range should be a float, do following process...\n",
    "\n",
    "min_val = 5\n",
    "max_val = 8\n",
    "rnd_val = (max_val - min_val)*random.random() + min_val\n",
    "\n",
    "print(rnd_val)"
   ]
  },
  {
   "cell_type": "code",
   "execution_count": 27,
   "metadata": {},
   "outputs": [
    {
     "name": "stdout",
     "output_type": "stream",
     "text": [
      "6.358178454407108\n"
     ]
    }
   ],
   "source": [
    "## values from a specific distribution\n",
    "\n",
    "mean, std_dev = 5, 3\n",
    "print(random.gauss(mean, std_dev))\n",
    "\n",
    "## functions like this can be looked with numpy - will be covered later"
   ]
  }
 ],
 "metadata": {
  "kernelspec": {
   "display_name": "Python 3",
   "language": "python",
   "name": "python3"
  },
  "language_info": {
   "codemirror_mode": {
    "name": "ipython",
    "version": 3
   },
   "file_extension": ".py",
   "mimetype": "text/x-python",
   "name": "python",
   "nbconvert_exporter": "python",
   "pygments_lexer": "ipython3",
   "version": "3.7.1"
  }
 },
 "nbformat": 4,
 "nbformat_minor": 2
}
